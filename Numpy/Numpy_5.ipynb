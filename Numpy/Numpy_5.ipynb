{
 "cells": [
  {
   "cell_type": "code",
   "execution_count": 1,
   "id": "hearing-evans",
   "metadata": {},
   "outputs": [],
   "source": [
    "#Mean, Median, Sum, exp\n",
    "import numpy as np"
   ]
  },
  {
   "cell_type": "code",
   "execution_count": 8,
   "id": "working-actor",
   "metadata": {},
   "outputs": [
    {
     "name": "stdout",
     "output_type": "stream",
     "text": [
      "[[ 1.  4.  7. 10.]\n",
      " [11. 14. 17. 20.]\n",
      " [21. 24. 27. 30.]]\n",
      "<class 'numpy.ndarray'>\n",
      "float64\n"
     ]
    }
   ],
   "source": [
    "arr1 = np.array( [ list( range(1, 11, 3) ), list( range(11, 21, 3) ), list( range(21, 31, 3) ) ], dtype = np.float64 )\n",
    "print( arr1 )\n",
    "print( type( arr1 ) )\n",
    "print( arr1.dtype )  #To see the data type of all the elements of numpy array"
   ]
  },
  {
   "cell_type": "code",
   "execution_count": 6,
   "id": "baking-trigger",
   "metadata": {},
   "outputs": [
    {
     "name": "stdout",
     "output_type": "stream",
     "text": [
      "[[ 1.  4.  7. 10.]\n",
      " [11. 14. 17. 20.]\n",
      " [21. 24. 27. 30.]]\n",
      "\n",
      "[[6 5 1 2]\n",
      " [8 1 9 2]\n",
      " [1 3 5 4]]\n"
     ]
    }
   ],
   "source": [
    "arr2 = np.array( [ [6.2, 5.9, 1.9, 2.2], [8.8, 1.1, 9.6, 2.9], [ 1, 3.45, 5.43, 4.35 ] ], dtype = np.int64 )\n",
    "print(arr1)\n",
    "print()\n",
    "print(arr2)"
   ]
  },
  {
   "cell_type": "code",
   "execution_count": 10,
   "id": "informed-legislature",
   "metadata": {},
   "outputs": [
    {
     "name": "stdout",
     "output_type": "stream",
     "text": [
      "arrsum = [[ 7.  9.  8. 12.]\n",
      " [19. 15. 26. 22.]\n",
      " [22. 27. 32. 34.]], dtype = float64\n",
      "dtype = int64\n"
     ]
    }
   ],
   "source": [
    "#Addition of 2 ndarrays\n",
    "arrsum = arr1+arr2\n",
    "print(f\"arrsum = {arrsum}, dtype = {arrsum.dtype}\" )\n",
    "arrsum.dtype = np.int64\n",
    "print(f\"dtype = {arrsum.dtype}\" )"
   ]
  },
  {
   "cell_type": "code",
   "execution_count": 11,
   "id": "academic-palestine",
   "metadata": {},
   "outputs": [
    {
     "name": "stdout",
     "output_type": "stream",
     "text": [
      "[[-5. -1.  6.  8.]\n",
      " [ 3. 13.  8. 18.]\n",
      " [20. 21. 22. 26.]]\n",
      "float64\n",
      "<class 'numpy.ndarray'>\n"
     ]
    }
   ],
   "source": [
    "#Substraction of 2 ndarrays\n",
    "\n",
    "arrsub = arr1-arr2\n",
    "print( arrsub )\n",
    "print( arrsub.dtype )\n",
    "print( type( arrsub ) )"
   ]
  },
  {
   "cell_type": "code",
   "execution_count": 12,
   "id": "preliminary-grace",
   "metadata": {},
   "outputs": [
    {
     "name": "stdout",
     "output_type": "stream",
     "text": [
      "[[  6.  20.   7.  20.]\n",
      " [ 88.  14. 153.  40.]\n",
      " [ 21.  72. 135. 120.]]\n",
      "float64\n"
     ]
    }
   ],
   "source": [
    "#Multition of 2 ndarrays\n",
    "arrmult = arr1*arr2\n",
    "print( arrmult )\n",
    "print( arrmult.dtype )"
   ]
  },
  {
   "cell_type": "code",
   "execution_count": 13,
   "id": "stunning-transparency",
   "metadata": {},
   "outputs": [
    {
     "name": "stdout",
     "output_type": "stream",
     "text": [
      "\n",
      "[[ 0.16666667  0.8         7.          5.        ]\n",
      " [ 1.375      14.          1.88888889 10.        ]\n",
      " [21.          8.          5.4         7.5       ]]\n",
      "float64\n"
     ]
    }
   ],
   "source": [
    "#Division of 2 ndarrays\n",
    "print()\n",
    "arrdiv = arr1/arr2\n",
    "print( arrdiv )\n",
    "print( arrdiv.dtype )"
   ]
  },
  {
   "cell_type": "code",
   "execution_count": 14,
   "id": "abroad-telescope",
   "metadata": {},
   "outputs": [
    {
     "name": "stdout",
     "output_type": "stream",
     "text": [
      "[[ 0.  0.  7.  5.]\n",
      " [ 1. 14.  1. 10.]\n",
      " [21.  8.  5.  7.]]\n",
      "float64\n",
      "len(arrdiv) = 3\n",
      "\n"
     ]
    }
   ],
   "source": [
    "#Division of 2 ndarrays\n",
    "\n",
    "arrdiv = arr1//arr2\n",
    "print( arrdiv )\n",
    "print( arrdiv.dtype )\n",
    "print(f\"len(arrdiv) = { len(arrdiv) }\")\n",
    "print()"
   ]
  },
  {
   "cell_type": "code",
   "execution_count": 15,
   "id": "juvenile-advancement",
   "metadata": {},
   "outputs": [
    {
     "name": "stdout",
     "output_type": "stream",
     "text": [
      "[[1.00000000e+00 1.02400000e+03 7.00000000e+00 1.00000000e+02]\n",
      " [2.14358881e+08 1.40000000e+01 1.18587876e+11 4.00000000e+02]\n",
      " [2.10000000e+01 1.38240000e+04 1.43489070e+07 8.10000000e+05]]\n",
      "float64\n",
      "\n"
     ]
    }
   ],
   "source": [
    "#Power of 2 ndarrays\n",
    "arrpow = arr1**arr2\n",
    "print( arrpow )\n",
    "print( arrpow.dtype )\n",
    "print()"
   ]
  },
  {
   "cell_type": "code",
   "execution_count": 17,
   "id": "binary-middle",
   "metadata": {},
   "outputs": [
    {
     "name": "stdout",
     "output_type": "stream",
     "text": [
      "[[ 1.  4.  7. 10.]\n",
      " [11. 14. 17. 20.]\n",
      " [21. 24. 27. 30.]]\n",
      "\n",
      "[[1.         2.         2.64575131 3.16227766]\n",
      " [3.31662479 3.74165739 4.12310563 4.47213595]\n",
      " [4.58257569 4.89897949 5.19615242 5.47722558]]\n",
      "float64\n"
     ]
    }
   ],
   "source": [
    "#Square root of 2 ndarrays\n",
    "print( arr1 )\n",
    "print()\n",
    "arrsqrt = arr1**0.5\n",
    "print( arrsqrt )\n",
    "print( arrsqrt.dtype)"
   ]
  },
  {
   "cell_type": "code",
   "execution_count": 18,
   "id": "typical-ending",
   "metadata": {},
   "outputs": [
    {
     "name": "stdout",
     "output_type": "stream",
     "text": [
      "[[1.         2.         2.64575131 3.16227766]\n",
      " [3.31662479 3.74165739 4.12310563 4.47213595]\n",
      " [4.58257569 4.89897949 5.19615242 5.47722558]]\n"
     ]
    }
   ],
   "source": [
    "print( np.sqrt( arr1 ) )"
   ]
  },
  {
   "cell_type": "code",
   "execution_count": 19,
   "id": "smooth-thunder",
   "metadata": {},
   "outputs": [
    {
     "name": "stdout",
     "output_type": "stream",
     "text": [
      "[[ 0.16666667  0.8         7.          5.        ]\n",
      " [ 1.375      14.          1.88888889 10.        ]\n",
      " [21.          8.          5.4         7.5       ]]\n"
     ]
    }
   ],
   "source": [
    "print( np.divide( arr1, arr2 ) )"
   ]
  },
  {
   "cell_type": "code",
   "execution_count": 20,
   "id": "handmade-estonia",
   "metadata": {},
   "outputs": [
    {
     "name": "stdout",
     "output_type": "stream",
     "text": [
      "[[2.71828183e+00 5.45981500e+01 1.09663316e+03 2.20264658e+04]\n",
      " [5.98741417e+04 1.20260428e+06 2.41549528e+07 4.85165195e+08]\n",
      " [1.31881573e+09 2.64891221e+10 5.32048241e+11 1.06864746e+13]]\n"
     ]
    }
   ],
   "source": [
    "#Exponent of an numpy array\n",
    "\n",
    "print( np.exp( arr1 ) )"
   ]
  },
  {
   "cell_type": "code",
   "execution_count": 26,
   "id": "eligible-vermont",
   "metadata": {},
   "outputs": [
    {
     "name": "stdout",
     "output_type": "stream",
     "text": [
      "[[ 1.  4.  7. 10.]\n",
      " [11. 14. 17. 20.]\n",
      " [21. 24. 27. 30.]]\n",
      "\n",
      "15.5\n",
      "\n",
      "Total sum of numbers = 186.0\n",
      "Total no. of element = 12\n",
      "Mean of arr1 = 15.5\n",
      "This is how mean() works in python\n"
     ]
    }
   ],
   "source": [
    "#Mean of an numpy array\n",
    "print( arr1 )\n",
    "print()\n",
    "print( np.mean( arr1 ) )\n",
    "print()\n",
    "\n",
    "row = len( arr1 )\n",
    "col = len( arr1[0] )\n",
    "n = row * col\n",
    "\n",
    "sum = 0\n",
    "\n",
    "for i in arr1:   #i = [11. 14. 17. 20.]\n",
    "    for j in i:   #j = 11.\n",
    "        sum = sum + j\n",
    "\n",
    "print(f\"Total sum of numbers = { sum }\")\n",
    "print(f\"Total no. of element = {n}\")\n",
    "print(f\"Mean of arr1 = { sum/n }\")\n",
    "print(\"This is how mean() works in python\")"
   ]
  },
  {
   "cell_type": "code",
   "execution_count": 29,
   "id": "boring-budapest",
   "metadata": {},
   "outputs": [
    {
     "name": "stdout",
     "output_type": "stream",
     "text": [
      "[11. 14. 17. 20.]\n",
      "\n"
     ]
    }
   ],
   "source": [
    "#Mean of cols of an numpy array\n",
    "\n",
    "print( np.mean( arr1 , axis = 0) )    #axis = 0, is for the mean()\n",
    "print()"
   ]
  },
  {
   "cell_type": "code",
   "execution_count": 30,
   "id": "otherwise-component",
   "metadata": {},
   "outputs": [
    {
     "name": "stdout",
     "output_type": "stream",
     "text": [
      "[ 22.  62. 102.]\n",
      "\n",
      "[33. 42. 51. 60.]\n",
      "\n"
     ]
    }
   ],
   "source": [
    "#Sum of rows of an numpy array\n",
    "\n",
    "print( np.sum( arr1 , axis = 1) )\n",
    "print()\n",
    "#Sum of cols of an numpy array\n",
    "\n",
    "print( np.sum( arr1 , axis = 0) )\n",
    "print()"
   ]
  },
  {
   "cell_type": "code",
   "execution_count": 31,
   "id": "champion-avenue",
   "metadata": {},
   "outputs": [
    {
     "ename": "ValueError",
     "evalue": "invalid number of arguments",
     "output_type": "error",
     "traceback": [
      "\u001b[1;31m---------------------------------------------------------------------------\u001b[0m",
      "\u001b[1;31mValueError\u001b[0m                                Traceback (most recent call last)",
      "\u001b[1;32m<ipython-input-31-ccafa50e0143>\u001b[0m in \u001b[0;36m<module>\u001b[1;34m\u001b[0m\n\u001b[0;32m      1\u001b[0m \u001b[1;31m#Subtract of rows of an numpy array\u001b[0m\u001b[1;33m\u001b[0m\u001b[1;33m\u001b[0m\u001b[1;33m\u001b[0m\u001b[0m\n\u001b[0;32m      2\u001b[0m \u001b[1;33m\u001b[0m\u001b[0m\n\u001b[1;32m----> 3\u001b[1;33m \u001b[0mprint\u001b[0m\u001b[1;33m(\u001b[0m \u001b[0mnp\u001b[0m\u001b[1;33m.\u001b[0m\u001b[0msubtract\u001b[0m\u001b[1;33m(\u001b[0m \u001b[0marr1\u001b[0m \u001b[1;33m,\u001b[0m \u001b[0maxis\u001b[0m \u001b[1;33m=\u001b[0m \u001b[1;36m1\u001b[0m\u001b[1;33m)\u001b[0m \u001b[1;33m)\u001b[0m\u001b[1;33m\u001b[0m\u001b[1;33m\u001b[0m\u001b[0m\n\u001b[0m\u001b[0;32m      4\u001b[0m \u001b[0mprint\u001b[0m\u001b[1;33m(\u001b[0m\u001b[1;33m)\u001b[0m\u001b[1;33m\u001b[0m\u001b[1;33m\u001b[0m\u001b[0m\n\u001b[0;32m      5\u001b[0m \u001b[1;31m#Sum of cols of an numpy array\u001b[0m\u001b[1;33m\u001b[0m\u001b[1;33m\u001b[0m\u001b[1;33m\u001b[0m\u001b[0m\n",
      "\u001b[1;31mValueError\u001b[0m: invalid number of arguments"
     ]
    }
   ],
   "source": [
    "#Subtract of rows of an numpy array\n",
    "\n",
    "print( np.subtract( arr1 , axis = 1) )\n",
    "print()\n",
    "#Sum of cols of an numpy array\n",
    "\n",
    "print( np.subtract( arr1 , axis = 0) )\n",
    "print()\n",
    "\n",
    "#Above Program will give Error"
   ]
  },
  {
   "cell_type": "code",
   "execution_count": 32,
   "id": "computational-backing",
   "metadata": {},
   "outputs": [
    {
     "name": "stdout",
     "output_type": "stream",
     "text": [
      "[[ 1.  4.  7. 10.]\n",
      " [11. 14. 17. 20.]\n",
      " [21. 24. 27. 30.]]\n",
      "\n",
      "[ 5.5 15.5 25.5]\n",
      "\n",
      "[11. 14. 17. 20.]\n",
      "\n"
     ]
    }
   ],
   "source": [
    "#Median of rows of an numpy array\n",
    "print( arr1 )\n",
    "print()\n",
    "print( np.median( arr1 , axis = 1) )\n",
    "print()\n",
    "#Sum of cols of an numpy array\n",
    "\n",
    "print( np.median( arr1 , axis = 0) )\n",
    "print()"
   ]
  },
  {
   "cell_type": "code",
   "execution_count": null,
   "id": "logical-character",
   "metadata": {},
   "outputs": [],
   "source": []
  }
 ],
 "metadata": {
  "kernelspec": {
   "display_name": "Python 3",
   "language": "python",
   "name": "python3"
  },
  "language_info": {
   "codemirror_mode": {
    "name": "ipython",
    "version": 3
   },
   "file_extension": ".py",
   "mimetype": "text/x-python",
   "name": "python",
   "nbconvert_exporter": "python",
   "pygments_lexer": "ipython3",
   "version": "3.7.9"
  }
 },
 "nbformat": 4,
 "nbformat_minor": 5
}
