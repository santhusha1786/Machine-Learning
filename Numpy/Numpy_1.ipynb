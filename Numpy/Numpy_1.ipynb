{
 "cells": [
  {
   "cell_type": "code",
   "execution_count": 2,
   "id": "entertaining-sheriff",
   "metadata": {},
   "outputs": [],
   "source": [
    "#Introduction program\n",
    "import numpy as np"
   ]
  },
  {
   "cell_type": "code",
   "execution_count": 6,
   "id": "brave-temple",
   "metadata": {},
   "outputs": [
    {
     "name": "stdout",
     "output_type": "stream",
     "text": [
      "type(l)= <class 'list'>\n",
      "l = [[1, 12, 0, 4], [13, 2, 10, 5]]\n",
      "\n",
      "arr = \n",
      "[[ 1 12  0  4]\n",
      " [13  2 10  5]]\n",
      "type(arr) = <class 'numpy.ndarray'>\n",
      "\n",
      "type(l) = <class 'list'>\n",
      "\n"
     ]
    }
   ],
   "source": [
    "#Single Dimension Array\n",
    "l = [ [1, 12, 0, 4], [13, 2, 10, 5] ]  \n",
    "print(f\"type(l)= {type(l)}\" )\n",
    "\n",
    "#syntax :- np.array( list )\n",
    "arr = np.array( l )\n",
    "\n",
    "print(f\"l = { l }\\n\")\n",
    "print(f\"arr = \\n{ arr }\" )\n",
    "print(f\"type(arr) = { type(arr) }\\n\")\n",
    "print(f\"type(l) = { type(l) }\\n\")"
   ]
  },
  {
   "cell_type": "code",
   "execution_count": 4,
   "id": "thorough-animal",
   "metadata": {},
   "outputs": [
    {
     "name": "stdout",
     "output_type": "stream",
     "text": [
      "len(l) = 2\n",
      "len(arr) = 2\n",
      "(2, 4)\n",
      "This is Numpy Array = [[ 1 12  0  4]\n",
      " [13  2 10  5]]\n",
      "This is list = [[1, 12, 0, 4], [13, 2, 10, 5]]\n"
     ]
    }
   ],
   "source": [
    "print( f\"len(l) = { len(l) }\" )\n",
    "print( f\"len(arr) = { len(arr) }\" )\n",
    "\n",
    "print( arr.shape )\n",
    "print( f\"This is Numpy Array = { arr }\" )\n",
    "print( f\"This is list = { l }\" )"
   ]
  },
  {
   "cell_type": "code",
   "execution_count": 5,
   "id": "front-orbit",
   "metadata": {},
   "outputs": [
    {
     "data": {
      "text/plain": [
       "array([[ 1, 12,  0,  4],\n",
       "       [13,  2, 10,  5]])"
      ]
     },
     "execution_count": 5,
     "metadata": {},
     "output_type": "execute_result"
    }
   ],
   "source": [
    "arr"
   ]
  },
  {
   "cell_type": "code",
   "execution_count": 12,
   "id": "according-crazy",
   "metadata": {},
   "outputs": [
    {
     "name": "stdout",
     "output_type": "stream",
     "text": [
      "[[1, 2, 3, 4, 5], [6, 9, 10], [10, 11, 19, 34]]\n",
      "\n",
      "\n",
      "[list([1, 2, 3, 4, 5]) list([6, 9, 10]) list([10, 11, 19, 34])]\n",
      "\n",
      "<class 'numpy.ndarray'>\n",
      "\n",
      "(3,)\n"
     ]
    },
    {
     "name": "stderr",
     "output_type": "stream",
     "text": [
      "c:\\users\\pc\\appdata\\local\\programs\\python\\python37\\lib\\site-packages\\ipykernel_launcher.py:4: VisibleDeprecationWarning: Creating an ndarray from ragged nested sequences (which is a list-or-tuple of lists-or-tuples-or ndarrays with different lengths or shapes) is deprecated. If you meant to do this, you must specify 'dtype=object' when creating the ndarray.\n",
      "  after removing the cwd from sys.path.\n"
     ]
    }
   ],
   "source": [
    "l = [ [1, 2, 3, 4, 5], [6, 9, 10], [10, 11, 19, 34] ]\n",
    "print(l)\n",
    "print()\n",
    "arr2 = np.array( l )\n",
    "print()\n",
    "print( arr2  ) \n",
    "print()\n",
    "print( type(arr2)  ) \n",
    "print()\n",
    "print( arr2.shape )"
   ]
  },
  {
   "cell_type": "code",
   "execution_count": 13,
   "id": "about-ground",
   "metadata": {},
   "outputs": [
    {
     "name": "stdout",
     "output_type": "stream",
     "text": [
      "a  = 2 and b = 3\n",
      "[[ 1 12  0  4]\n",
      " [13  2 10  5]]\n",
      "\n",
      "arr.shape = (2, 4)\n",
      "No. of Rows = 2 and No. of Columns = 4\n",
      "No. of Rows = <class 'int'> and No. of Columns = <class 'int'>\n"
     ]
    }
   ],
   "source": [
    "a, b = 2, 3\n",
    "print(f\"a  = { a } and b = { b }\")\n",
    "\n",
    "print( arr )\n",
    "print()\n",
    "print(f\"arr.shape = { arr.shape }\")\n",
    "\n",
    "row, col = arr.shape\n",
    "\n",
    "print(f\"No. of Rows = {row} and No. of Columns = {col}\")\n",
    "print(f\"No. of Rows = {type(row)} and No. of Columns = {type(col)}\")"
   ]
  },
  {
   "cell_type": "code",
   "execution_count": 14,
   "id": "numeric-dollar",
   "metadata": {},
   "outputs": [
    {
     "name": "stdout",
     "output_type": "stream",
     "text": [
      "[[ 1 12  0  4]\n",
      " [13  2 10  5]]\n",
      "\n",
      "Row 1 : [ 1 12  0  4]\n",
      "j = 1\n",
      "j = 12\n",
      "j = 0\n",
      "j = 4\n",
      "Row 2 : [13  2 10  5]\n",
      "j = 13\n",
      "j = 2\n",
      "j = 10\n",
      "j = 5\n",
      "count = 3\n"
     ]
    }
   ],
   "source": [
    "#Printing the elements of array\n",
    "count = 1\n",
    "print(arr)\n",
    "print()\n",
    "for i in arr:    #i = [1 12 0 4] -> [8 1 5 0]\n",
    "    print(f\"Row {count} : \", end = '')\n",
    "    print(i)\n",
    "    \n",
    "    for j in i:\n",
    "        print(f\"j = {j}\")\n",
    "    count += 1\n",
    "\n",
    "print( f\"count = { count }\" )"
   ]
  },
  {
   "cell_type": "code",
   "execution_count": 9,
   "id": "interstate-certification",
   "metadata": {},
   "outputs": [
    {
     "name": "stdout",
     "output_type": "stream",
     "text": [
      "old arr :- \n",
      "[[ 1 12  0  4]\n",
      " [13  2 10  5]]\n",
      "\n",
      "arr[0] = [ 1 12  0  4]\n",
      "arr[0][1] = 12\n",
      "\n",
      "New arr :- \n",
      "[[ 1 12  1  4]\n",
      " [13  2  2  5]]\n"
     ]
    }
   ],
   "source": [
    "#Changing the elements of array using indexes( Mutability )\n",
    "print(\"old arr :- \")\n",
    "print(arr)\n",
    "print()\n",
    "print( f\"arr[0] = { arr[0] }\" )\n",
    "print( f\"arr[0][1] = { arr[0][1] }\" )\n",
    "print()\n",
    "\n",
    "arr[0][2] = 1\n",
    "arr[1][2] = 2\n",
    "print(\"New arr :- \")\n",
    "print( arr )"
   ]
  },
  {
   "cell_type": "code",
   "execution_count": null,
   "id": "forced-barrier",
   "metadata": {},
   "outputs": [],
   "source": []
  }
 ],
 "metadata": {
  "kernelspec": {
   "display_name": "Python 3",
   "language": "python",
   "name": "python3"
  },
  "language_info": {
   "codemirror_mode": {
    "name": "ipython",
    "version": 3
   },
   "file_extension": ".py",
   "mimetype": "text/x-python",
   "name": "python",
   "nbconvert_exporter": "python",
   "pygments_lexer": "ipython3",
   "version": "3.7.9"
  }
 },
 "nbformat": 4,
 "nbformat_minor": 5
}
