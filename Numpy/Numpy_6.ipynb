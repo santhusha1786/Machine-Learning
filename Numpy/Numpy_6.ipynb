{
 "cells": [
  {
   "cell_type": "code",
   "execution_count": 1,
   "id": "placed-tongue",
   "metadata": {},
   "outputs": [],
   "source": [
    "import numpy as np\n",
    "#Random, Union, Intersection, diffrence, etc"
   ]
  },
  {
   "cell_type": "code",
   "execution_count": 8,
   "id": "increased-meditation",
   "metadata": {},
   "outputs": [
    {
     "name": "stdout",
     "output_type": "stream",
     "text": [
      "[[0.1561251  0.73320727 0.51445822 0.36482781]\n",
      " [0.81847583 0.76347511 0.24556241 0.58648981]]\n",
      "[[0.1561251  0.36482781 0.51445822 0.73320727]\n",
      " [0.24556241 0.58648981 0.76347511 0.81847583]]\n"
     ]
    }
   ],
   "source": [
    "#Sorting\n",
    "\n",
    "unsorted = np.random.rand( 2, 4 )   #It makes 2 list and put both into an another list\n",
    "#( n, e ) -> n is number of list and e is number of elements in each list. \n",
    "print( unsorted )\n",
    "unsorted.sort()    #Our nd array is now sorted.\n",
    "print( unsorted )"
   ]
  },
  {
   "cell_type": "code",
   "execution_count": 9,
   "id": "collaborative-steel",
   "metadata": {},
   "outputs": [
    {
     "name": "stdout",
     "output_type": "stream",
     "text": [
      "[1 2 3 9]\n"
     ]
    }
   ],
   "source": [
    "#unique() - Will remove the duplicates.\n",
    "\n",
    "arr1 = np.array( [1, 2, 3, 3, 9, 1, 2] )\n",
    "print( np.unique( arr1 ) )"
   ]
  },
  {
   "cell_type": "code",
   "execution_count": 14,
   "id": "confidential-brooklyn",
   "metadata": {},
   "outputs": [
    {
     "name": "stdout",
     "output_type": "stream",
     "text": [
      "arr1 = [1 2 3 3 9 1 2], type = <class 'numpy.ndarray'>\n",
      "arr2 = [3, 9, 10, 11, 10, 14], type = <class 'list'>\n",
      "\n",
      "np.intersect1d( arr1, arr2 ) = [3 9]\n",
      "\n",
      "arr1 = [1 2 3 3 9 1 2], type = <class 'numpy.ndarray'>\n",
      "arr2 = [3, 9, 10, 11, 10, 14], type = <class 'list'>\n"
     ]
    }
   ],
   "source": [
    "#intersection of 2 arrays. -> common values will be print\n",
    "\n",
    "arr2 = [3, 9, 10, 11, 10, 14]\n",
    "\n",
    "print( f\"arr1 = { arr1 }, type = {type(arr1)}\" )\n",
    "print( f\"arr2 = { arr2 }, type = {type(arr2)}\" )\n",
    "print()\n",
    "print( f\"np.intersect1d( arr1, arr2 ) = { np.intersect1d( arr1, arr2 ) }\" )\n",
    "print()\n",
    "print( f\"arr1 = { arr1 }, type = {type(arr1)}\" )\n",
    "print( f\"arr2 = { arr2 }, type = {type(arr2)}\" )"
   ]
  },
  {
   "cell_type": "code",
   "execution_count": 15,
   "id": "bronze-sierra",
   "metadata": {},
   "outputs": [
    {
     "name": "stdout",
     "output_type": "stream",
     "text": [
      "arr1 = [1 2 3 3 9 1 2]\n",
      "arr2 = [3, 9, 10, 11, 10, 14]\n",
      "\n",
      "[ 1  2  3  9 10 11 14]\n",
      "\n",
      "arr1 = [1 2 3 3 9 1 2]\n",
      "arr2 = [3, 9, 10, 11, 10, 14]\n"
     ]
    }
   ],
   "source": [
    "#Union of 2 arrays. -> joining the two arrays \n",
    "arr2 = [3, 9, 10, 11, 10, 14]\n",
    "\n",
    "print( f\"arr1 = { arr1 }\" )\n",
    "print( f\"arr2 = { arr2 }\" )\n",
    "print()\n",
    "\n",
    "print( np.union1d( arr1, arr2 ) )\n",
    "print()\n",
    "print( f\"arr1 = { arr1 }\" )\n",
    "print( f\"arr2 = { arr2 }\" )"
   ]
  },
  {
   "cell_type": "code",
   "execution_count": 17,
   "id": "antique-pressing",
   "metadata": {},
   "outputs": [
    {
     "name": "stdout",
     "output_type": "stream",
     "text": [
      "arr1 = [1 2 3 3 9 1 2]\n",
      "arr2 = [3, 9, 10, 11, 10, 14]\n",
      "\n",
      "[1 2]\n",
      "\n",
      "arr1 = [1 2 3 3 9 1 2]\n",
      "arr2 = [3, 9, 10, 11, 10, 14]\n",
      "\n",
      "[10 11 14]\n"
     ]
    }
   ],
   "source": [
    "#diifrence of 2 numpy arrays\n",
    "print( f\"arr1 = { arr1 }\" )\n",
    "print( f\"arr2 = { arr2 }\" )\n",
    "print()\n",
    "print( np.setdiff1d( arr1, arr2 ) ) \n",
    "#removes the common part of arr1 and arr2, and then, it shows arr1.\n",
    "print()\n",
    "print( f\"arr1 = { arr1 }\" )\n",
    "print( f\"arr2 = { arr2 }\" )\n",
    "print()\n",
    "print( np.setdiff1d( arr2, arr1 ) )\n",
    "#removes the common part of arr1 and arr2, and then, it shows arr2."
   ]
  },
  {
   "cell_type": "code",
   "execution_count": 18,
   "id": "reverse-beijing",
   "metadata": {},
   "outputs": [
    {
     "name": "stdout",
     "output_type": "stream",
     "text": [
      "arr1 = [1 2 3 3 9 1 2]\n",
      "\n",
      "arr2 = [3, 9, 10, 11, 10, 14]\n",
      "\n",
      "np.in1d( arr1, arr2 ) = [False False  True  True  True False False]\n",
      "\n"
     ]
    }
   ],
   "source": [
    "print( f\"arr1 = { arr1 }\" )\n",
    "print()\n",
    "print( f\"arr2 = { arr2 }\" )\n",
    "print()\n",
    "print( f\"np.in1d( arr1, arr2 ) = { np.in1d( arr1, arr2 ) }\" )\n",
    "print()"
   ]
  },
  {
   "cell_type": "code",
   "execution_count": null,
   "id": "secondary-priest",
   "metadata": {},
   "outputs": [],
   "source": []
  }
 ],
 "metadata": {
  "kernelspec": {
   "display_name": "Python 3",
   "language": "python",
   "name": "python3"
  },
  "language_info": {
   "codemirror_mode": {
    "name": "ipython",
    "version": 3
   },
   "file_extension": ".py",
   "mimetype": "text/x-python",
   "name": "python",
   "nbconvert_exporter": "python",
   "pygments_lexer": "ipython3",
   "version": "3.7.9"
  }
 },
 "nbformat": 4,
 "nbformat_minor": 5
}
