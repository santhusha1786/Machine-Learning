{
 "cells": [
  {
   "cell_type": "code",
   "execution_count": 1,
   "id": "growing-sally",
   "metadata": {},
   "outputs": [
    {
     "data": {
      "text/plain": [
       "'\\nslicing of string\\nmsg = \"Hello, How are you ?\"\\n\\n#startindex <= index < end_index\\n\\nprint(msg[7: 20] )\\n'"
      ]
     },
     "execution_count": 1,
     "metadata": {},
     "output_type": "execute_result"
    }
   ],
   "source": [
    "import numpy as np\n",
    "'''\n",
    "slicing of string\n",
    "msg = \"Hello, How are you ?\"\n",
    "\n",
    "#startindex <= index < end_index\n",
    "\n",
    "print(msg[7: 20] )\n",
    "'''"
   ]
  },
  {
   "cell_type": "code",
   "execution_count": 7,
   "id": "coated-graphics",
   "metadata": {},
   "outputs": [
    {
     "name": "stdout",
     "output_type": "stream",
     "text": [
      "How are you ?\n"
     ]
    }
   ],
   "source": [
    "msg = \"Hello, How are you ?\"\n",
    "print(msg[7: 20] )"
   ]
  },
  {
   "cell_type": "code",
   "execution_count": 9,
   "id": "incident-leader",
   "metadata": {},
   "outputs": [
    {
     "name": "stdout",
     "output_type": "stream",
     "text": [
      "list( range(5, 10) ) = [5, 6, 7, 8, 9]\n",
      "list( range(15, 20) ) = [15, 16, 17, 18, 19]\n",
      "list( range(0, 5) ) = [0, 1, 2, 3, 4]\n",
      "list( range(20, 25) ) = [20, 21, 22, 23, 24]\n",
      "l = [[5, 6, 7, 8, 9], [15, 16, 17, 18, 19], [0, 1, 2, 3, 4], [20, 21, 22, 23, 24]] , type(1) = <class 'list'>\n"
     ]
    }
   ],
   "source": [
    "print(f\"list( range(5, 10) ) = { list( range(5, 10) ) }\" )\n",
    "print(f\"list( range(15, 20) ) = { list( range(15, 20) )}\")\n",
    "print(f\"list( range(0, 5) ) = {list( range(0, 5) )}\")\n",
    "print(f\"list( range(20, 25) ) = {list( range(20, 25) )}\")\n",
    "\n",
    "l = [ list( range(5, 10)), list( range(15, 20)),list( range(0, 5) ), list( range(20, 25) ) ]\n",
    "print(f\"l = {l} , type(1) = {type(l)}\")"
   ]
  },
  {
   "cell_type": "code",
   "execution_count": 11,
   "id": "forward-protection",
   "metadata": {},
   "outputs": [
    {
     "name": "stdout",
     "output_type": "stream",
     "text": [
      "arr = [[ 5  6  7  8  9]\n",
      " [15 16 17 18 19]\n",
      " [ 0  1  2  3  4]\n",
      " [20 21 22 23 24]], shape = (4, 5), type = <class 'numpy.ndarray'>\n"
     ]
    }
   ],
   "source": [
    "arr = np.array(l)\n",
    "print(f\"arr = {arr}, shape = {arr.shape}, type = {type(arr)}\")"
   ]
  },
  {
   "cell_type": "code",
   "execution_count": 13,
   "id": "involved-questionnaire",
   "metadata": {},
   "outputs": [
    {
     "name": "stdout",
     "output_type": "stream",
     "text": [
      "arr = [[ 5  6  7  8  9]\n",
      " [15 16 17 18 19]\n",
      " [ 0  1  2  3  4]\n",
      " [20 21 22 23 24]]\n",
      "\n",
      "[[ 5  6  7  8  9]\n",
      " [15 16 17 18 19]\n",
      " [ 0  1  2  3  4]\n",
      " [20 21 22 23 24]]\n"
     ]
    }
   ],
   "source": [
    "'''\n",
    "Slicing of 2 dimensional Arrays\n",
    "Syntax :- \n",
    "    Numpyarrayname[ row1 : row2, col1 : col2]   #row1 & col1 are inclusive whereas row2 & col2 are exclusive.\n",
    "                  [  2   :   0      0   :  0   ]\n",
    "'''\n",
    "#When we don't mention any row and column\n",
    "print(f\"arr = {arr}\")\n",
    "print()\n",
    "\n",
    "arrslice = arr[ : :  ]\n",
    "print(arrslice)"
   ]
  },
  {
   "cell_type": "code",
   "execution_count": 14,
   "id": "educated-radio",
   "metadata": {},
   "outputs": [
    {
     "name": "stdout",
     "output_type": "stream",
     "text": [
      "[[ 5  6  7  8  9]\n",
      " [15 16 17 18 19]\n",
      " [ 0  1  2  3  4]]\n"
     ]
    }
   ],
   "source": [
    "#When we mention only row2 and no columns\n",
    "arrslice = arr[ :2, :  ] #If don't mention Anything in starting then, it will consider index from 0\n",
    "print(arrslice)"
   ]
  },
  {
   "cell_type": "code",
   "execution_count": 34,
   "id": "hispanic-impossible",
   "metadata": {},
   "outputs": [
    {
     "name": "stdout",
     "output_type": "stream",
     "text": [
      "[[ 0  1  2  3  4]\n",
      " [20 21 22 23 24]]\n"
     ]
    }
   ],
   "source": [
    "#When we mention only row1 and no columns\n",
    "arrslice = arr[ 2 :  , :  ]             #If don't mention Anything in last then, it will consider index from row1 to last row\n",
    "print(arrslice)"
   ]
  },
  {
   "cell_type": "code",
   "execution_count": 35,
   "id": "sensitive-arrest",
   "metadata": {},
   "outputs": [
    {
     "name": "stdout",
     "output_type": "stream",
     "text": [
      "[[15 16 17 18 19]\n",
      " [ 0  1  2  3  4]]\n"
     ]
    }
   ],
   "source": [
    "#When we mention only rows and no columns\n",
    "arrslice = arr[ 1 : 3 , :  ]             #If mention rows and no columns\n",
    "print(arrslice)"
   ]
  },
  {
   "cell_type": "code",
   "execution_count": 36,
   "id": "velvet-royalty",
   "metadata": {},
   "outputs": [
    {
     "name": "stdout",
     "output_type": "stream",
     "text": [
      "[[ 5  6]\n",
      " [15 16]\n",
      " [ 0  1]\n",
      " [20 21]]\n"
     ]
    }
   ],
   "source": [
    "#When we mention only col2 and no rows\n",
    "arrslice = arr[  :  , : 2 ]                         #If don't mention Anything in starting then, it will consider index from 0\n",
    "print(arrslice)"
   ]
  },
  {
   "cell_type": "code",
   "execution_count": 37,
   "id": "appointed-mediterranean",
   "metadata": {},
   "outputs": [
    {
     "name": "stdout",
     "output_type": "stream",
     "text": [
      "[[ 7  8  9]\n",
      " [17 18 19]\n",
      " [ 2  3  4]\n",
      " [22 23 24]]\n"
     ]
    }
   ],
   "source": [
    "#When we mention only col1 and no rows\n",
    "arrslice = arr[  :  , 2 :  ]            #If don't mention Anything in last then, it will consider index till last columns\n",
    "print(arrslice)"
   ]
  },
  {
   "cell_type": "code",
   "execution_count": 38,
   "id": "coupled-rebel",
   "metadata": {},
   "outputs": [
    {
     "name": "stdout",
     "output_type": "stream",
     "text": [
      "[[ 7  8]\n",
      " [17 18]\n",
      " [ 2  3]\n",
      " [22 23]]\n"
     ]
    }
   ],
   "source": [
    "#When we mention only columns and no rows\n",
    "arrslice = arr[  :  , 2 : 4 ]             #If mention columns and no rows\n",
    "print(arrslice)"
   ]
  },
  {
   "cell_type": "code",
   "execution_count": 39,
   "id": "adolescent-senate",
   "metadata": {},
   "outputs": [
    {
     "name": "stdout",
     "output_type": "stream",
     "text": [
      "[[ 5  6  7  8  9]\n",
      " [15 16 17 18 19]\n",
      " [ 0  1  2  3  4]\n",
      " [20 21 22 23 24]]\n",
      "\n",
      "[[17 18]\n",
      " [ 2  3]\n",
      " [22 23]]\n"
     ]
    }
   ],
   "source": [
    "#When we mention both rows and columns\n",
    "arrslice = arr[ 1 : 4 , 2 : 4 ]     #If mention both then, it will consider index (from row1 to row2) and (from col1 to col2 )\n",
    "print(arr)\n",
    "print()\n",
    "print(arrslice)"
   ]
  },
  {
   "cell_type": "code",
   "execution_count": 17,
   "id": "offensive-sleeping",
   "metadata": {},
   "outputs": [
    {
     "name": "stdout",
     "output_type": "stream",
     "text": [
      "[ 1  2  3  4  5  6  7  8  9 10 11 12]\n",
      "\n",
      "[array([1, 2]), array([3, 4, 5]), array([6, 7, 8]), array([ 9, 10, 11, 12])]\n",
      "\n",
      "[ 1  2  3  4  5  6  7  8  9 10 11 12]\n",
      "\n"
     ]
    },
    {
     "data": {
      "text/plain": [
       "'\\nIt will run slcing into parts means,\\n\\n[ 3, 5, 8 ] = :3 and 3:5 and 5:8 and 8:\\n'"
      ]
     },
     "execution_count": 17,
     "metadata": {},
     "output_type": "execute_result"
    }
   ],
   "source": [
    "x = np.array(range( 1 , 13 ) )\n",
    "\n",
    "print( x )\n",
    "print()\n",
    "print( np.split( x, [2, 5, 8] ) )\n",
    "print()\n",
    "print(x)\n",
    "print()\n",
    "'''\n",
    "It will run slcing into parts means,\n",
    "\n",
    "[ 3, 5, 8 ] = :3 and 3:5 and 5:8 and 8:\n",
    "'''"
   ]
  },
  {
   "cell_type": "code",
   "execution_count": 50,
   "id": "burning-metro",
   "metadata": {},
   "outputs": [
    {
     "name": "stdout",
     "output_type": "stream",
     "text": [
      "[ 0  1  2  3  4  5  6  7  8  9 10 11 12 13 14 15]\n",
      "\n",
      "[ 0  1  2  3  4  5  6  7  8  9 10 11 12 13 14 15]\n"
     ]
    }
   ],
   "source": [
    "print( np.array( range( 0, 16 ) ) )\n",
    "print()\n",
    "print( np.arange(16) )"
   ]
  },
  {
   "cell_type": "code",
   "execution_count": 65,
   "id": "sound-luther",
   "metadata": {},
   "outputs": [
    {
     "name": "stdout",
     "output_type": "stream",
     "text": [
      "[[ 0  1  2  3  4  5  6  7  8  9 10 11 12 13 14 15]]\n",
      "\n",
      "[[ 0  1  2  3  4  5  6  7]\n",
      " [ 8  9 10 11 12 13 14 15]]\n",
      "\n",
      "[[ 0  1]\n",
      " [ 2  3]\n",
      " [ 4  5]\n",
      " [ 6  7]\n",
      " [ 8  9]\n",
      " [10 11]\n",
      " [12 13]\n",
      " [14 15]]\n",
      "\n",
      "[[[ 0  1  2  3]\n",
      "  [ 4  5  6  7]]\n",
      "\n",
      " [[ 8  9 10 11]\n",
      "  [12 13 14 15]]]\n",
      "\n",
      "[[[[ 0  1]\n",
      "   [ 2  3]]\n",
      "\n",
      "  [[ 4  5]\n",
      "   [ 6  7]]]\n",
      "\n",
      "\n",
      " [[[ 8  9]\n",
      "   [10 11]]\n",
      "\n",
      "  [[12 13]\n",
      "   [14 15]]]]\n",
      "\n"
     ]
    }
   ],
   "source": [
    "print( np.arange( 16 ).reshape( ( 1, 16 ) ) )\n",
    "print()\n",
    "print( np.arange( 16 ).reshape( ( 2, 8 ) ) )\n",
    "print()\n",
    "print( np.arange( 16 ).reshape( ( 8, 2 ) ) )\n",
    "print()\n",
    "print( np.arange( 16 ).reshape( ( 2, 2, 4 ) ) )\n",
    "print()\n",
    "print( np.arange( 16 ).reshape( ( 2, 2, 2, 2 ) ) )\n",
    "print()"
   ]
  },
  {
   "cell_type": "code",
   "execution_count": 69,
   "id": "distinguished-frame",
   "metadata": {},
   "outputs": [
    {
     "name": "stdout",
     "output_type": "stream",
     "text": [
      "[[ 0  1  2  3]\n",
      " [ 4  5  6  7]\n",
      " [ 8  9 10 11]\n",
      " [12 13 14 15]]\n"
     ]
    }
   ],
   "source": [
    "grid = np.arange(16).reshape( (4, 4) )\n",
    "print(grid)"
   ]
  },
  {
   "cell_type": "code",
   "execution_count": 73,
   "id": "attractive-comparative",
   "metadata": {},
   "outputs": [
    {
     "data": {
      "text/plain": [
       "[array([[0, 1, 2, 3],\n",
       "        [4, 5, 6, 7]]),\n",
       " array([[ 8,  9, 10, 11],\n",
       "        [12, 13, 14, 15]])]"
      ]
     },
     "execution_count": 73,
     "metadata": {},
     "output_type": "execute_result"
    }
   ],
   "source": [
    "np.vsplit(grid, [2])"
   ]
  },
  {
   "cell_type": "code",
   "execution_count": 77,
   "id": "played-catalog",
   "metadata": {},
   "outputs": [
    {
     "data": {
      "text/plain": [
       "[array([[0, 1, 2, 3],\n",
       "        [4, 5, 6, 7]]),\n",
       " array([[ 8,  9, 10, 11]]),\n",
       " array([[12, 13, 14, 15]])]"
      ]
     },
     "execution_count": 77,
     "metadata": {},
     "output_type": "execute_result"
    }
   ],
   "source": [
    "np.vsplit(grid, [2, 3]) "
   ]
  },
  {
   "cell_type": "code",
   "execution_count": 78,
   "id": "macro-flight",
   "metadata": {},
   "outputs": [
    {
     "data": {
      "text/plain": [
       "[array([[ 0,  1],\n",
       "        [ 4,  5],\n",
       "        [ 8,  9],\n",
       "        [12, 13]]),\n",
       " array([[ 2,  3],\n",
       "        [ 6,  7],\n",
       "        [10, 11],\n",
       "        [14, 15]])]"
      ]
     },
     "execution_count": 78,
     "metadata": {},
     "output_type": "execute_result"
    }
   ],
   "source": [
    "np.hsplit(grid, [2]) "
   ]
  },
  {
   "cell_type": "code",
   "execution_count": 81,
   "id": "brief-theta",
   "metadata": {},
   "outputs": [
    {
     "data": {
      "text/plain": [
       "[array([[ 0,  1],\n",
       "        [ 4,  5],\n",
       "        [ 8,  9],\n",
       "        [12, 13]]),\n",
       " array([[ 2],\n",
       "        [ 6],\n",
       "        [10],\n",
       "        [14]]),\n",
       " array([[ 3],\n",
       "        [ 7],\n",
       "        [11],\n",
       "        [15]])]"
      ]
     },
     "execution_count": 81,
     "metadata": {},
     "output_type": "execute_result"
    }
   ],
   "source": [
    "np.hsplit(grid, [2, 3]) "
   ]
  },
  {
   "cell_type": "code",
   "execution_count": null,
   "id": "floppy-eligibility",
   "metadata": {},
   "outputs": [],
   "source": []
  }
 ],
 "metadata": {
  "kernelspec": {
   "display_name": "Python 3",
   "language": "python",
   "name": "python3"
  },
  "language_info": {
   "codemirror_mode": {
    "name": "ipython",
    "version": 3
   },
   "file_extension": ".py",
   "mimetype": "text/x-python",
   "name": "python",
   "nbconvert_exporter": "python",
   "pygments_lexer": "ipython3",
   "version": "3.7.9"
  }
 },
 "nbformat": 4,
 "nbformat_minor": 5
}
