{
 "cells": [
  {
   "cell_type": "code",
   "execution_count": 12,
   "id": "dominant-cooler",
   "metadata": {},
   "outputs": [],
   "source": [
    "#Full,Ones,Zeros,Eye,Random\n",
    "import numpy as np"
   ]
  },
  {
   "cell_type": "code",
   "execution_count": 13,
   "id": "talented-fellowship",
   "metadata": {},
   "outputs": [],
   "source": [
    "l = [ [1, 12, 0, 4], [13, 2, 10, 5] ]  "
   ]
  },
  {
   "cell_type": "code",
   "execution_count": 14,
   "id": "imperial-observation",
   "metadata": {},
   "outputs": [],
   "source": [
    "arr = np.array(l)\n"
   ]
  },
  {
   "cell_type": "code",
   "execution_count": 15,
   "id": "lesbian-equipment",
   "metadata": {},
   "outputs": [
    {
     "data": {
      "text/plain": [
       "array([[ 1, 12,  0,  4],\n",
       "       [13,  2, 10,  5]])"
      ]
     },
     "execution_count": 15,
     "metadata": {},
     "output_type": "execute_result"
    }
   ],
   "source": [
    "arr\n"
   ]
  },
  {
   "cell_type": "code",
   "execution_count": 17,
   "id": "neutral-obligation",
   "metadata": {},
   "outputs": [
    {
     "name": "stdout",
     "output_type": "stream",
     "text": [
      "[[ 1 12  0  4]\n",
      " [13  2 10  5]]\n",
      "\n",
      "[[3 3 3 3 3]\n",
      " [3 3 3 3 3]]\n",
      "\n",
      "<class 'numpy.ndarray'>\n",
      "int32\n"
     ]
    }
   ],
   "source": [
    "#Syntax :- np.full( shape, value )\n",
    "arr1 = np.full( ( 2, 5 ), 3 )\n",
    "print( arr )\n",
    "print()\n",
    "print( arr1 )\n",
    "print()\n",
    "print( type(arr1) )\n",
    "\n",
    "print( arr.dtype )"
   ]
  },
  {
   "cell_type": "code",
   "execution_count": 8,
   "id": "determined-holmes",
   "metadata": {},
   "outputs": [
    {
     "name": "stdout",
     "output_type": "stream",
     "text": [
      "arr2 = [[0. 0. 0. 0. 0.]\n",
      " [0. 0. 0. 0. 0.]], type( arr2) = <class 'numpy.ndarray'> and arr2.dtype = float64\n"
     ]
    }
   ],
   "source": [
    "#Syntax :- np.zeros( shape )\n",
    "arr2 = np.zeros( ( 2, 5 ) )\n",
    "print( f\"arr2 = { arr2 }, type( arr2) = { type( arr2 ) } and arr2.dtype = { arr2.dtype }\" )"
   ]
  },
  {
   "cell_type": "code",
   "execution_count": 20,
   "id": "passive-islam",
   "metadata": {},
   "outputs": [
    {
     "name": "stdout",
     "output_type": "stream",
     "text": [
      "arr = [[1. 1. 1. 1. 1.]\n",
      " [1. 1. 1. 1. 1.]], type( arr) = <class 'numpy.ndarray'> and arr.dtype = float64\n"
     ]
    }
   ],
   "source": [
    "#Syntax :- np.ones( shape )\n",
    "arr3 = np.ones( ( 2, 5 ) )\n",
    "print( f\"arr = { arr3 }, type( arr) = { type( arr3 ) } and arr.dtype = { arr3.dtype }\" )"
   ]
  },
  {
   "cell_type": "code",
   "execution_count": 25,
   "id": "behavioral-richmond",
   "metadata": {},
   "outputs": [
    {
     "name": "stdout",
     "output_type": "stream",
     "text": [
      "[[1. 0. 0. 0. 0.]\n",
      " [0. 1. 0. 0. 0.]\n",
      " [0. 0. 1. 0. 0.]\n",
      " [0. 0. 0. 1. 0.]\n",
      " [0. 0. 0. 0. 1.]], type( arr4) = <class 'numpy.ndarray'> and arr4.dtype = float64\n"
     ]
    }
   ],
   "source": [
    "#Syntax :- np.eye( shape1, shape2 ) #rows,columns\n",
    "arr4 = np.eye( 5, 5 )\n",
    "print( f\"{ arr4 }, type( arr4) = { type( arr4 ) } and arr4.dtype = { arr4.dtype }\" )"
   ]
  },
  {
   "cell_type": "code",
   "execution_count": 29,
   "id": "helpful-solid",
   "metadata": {},
   "outputs": [
    {
     "name": "stdout",
     "output_type": "stream",
     "text": [
      "[[[0.25916923 0.47863745 0.60776524]\n",
      "  [0.36772634 0.79764138 0.27936959]\n",
      "  [0.69212171 0.24203159 0.01685712]\n",
      "  [0.08670678 0.61528669 0.93063299]]\n",
      "\n",
      " [[0.09383579 0.28489226 0.11861713]\n",
      "  [0.67892891 0.64073423 0.42963877]\n",
      "  [0.28511484 0.77189875 0.97753565]\n",
      "  [0.77861298 0.39165943 0.6162677 ]]]\n",
      "float64\n",
      "(2, 4, 3)\n"
     ]
    }
   ],
   "source": [
    "#Syntax :- np.random.random( shape )\n",
    "arrrandom = np.random.random( (2, 4, 3) ) #2 is list, 4 is row and 3 is column\n",
    "print( arrrandom )\n",
    "print( arrrandom.dtype )\n",
    "print( arrrandom.shape )"
   ]
  },
  {
   "cell_type": "code",
   "execution_count": 21,
   "id": "caroline-petroleum",
   "metadata": {},
   "outputs": [
    {
     "name": "stdout",
     "output_type": "stream",
     "text": [
      "n1 = [4 7 3 9]\n",
      "n2 = [18 15 12 17]\n",
      "n3 = [[17 12 19 14 13]\n",
      " [17 13 16 19 14]]\n"
     ]
    }
   ],
   "source": [
    "#Syntax :- np.random.randint( start, end, shape )\n",
    "n1 = np.random.randint( 2, 10, 4 )\n",
    "n2 = np.random.randint( 12, 20, 4 )\n",
    "n3 = np.random.randint( 12, 20, ( 2, 5 ) )\n",
    "\n",
    "print( f\"n1 = { n1 }\" )\n",
    "print( f\"n2 = { n2 }\" )\n",
    "print( f\"n3 = { n3 }\" )"
   ]
  },
  {
   "cell_type": "code",
   "execution_count": null,
   "id": "noted-employee",
   "metadata": {},
   "outputs": [],
   "source": []
  }
 ],
 "metadata": {
  "kernelspec": {
   "display_name": "Python 3",
   "language": "python",
   "name": "python3"
  },
  "language_info": {
   "codemirror_mode": {
    "name": "ipython",
    "version": 3
   },
   "file_extension": ".py",
   "mimetype": "text/x-python",
   "name": "python",
   "nbconvert_exporter": "python",
   "pygments_lexer": "ipython3",
   "version": "3.7.9"
  }
 },
 "nbformat": 4,
 "nbformat_minor": 5
}
