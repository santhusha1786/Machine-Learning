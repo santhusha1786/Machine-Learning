{
 "cells": [
  {
   "cell_type": "code",
   "execution_count": 1,
   "id": "manual-sculpture",
   "metadata": {},
   "outputs": [],
   "source": [
    "import numpy as np\n",
    "#arange(), reshape() and ravel()"
   ]
  },
  {
   "cell_type": "code",
   "execution_count": 4,
   "id": "flush-wrapping",
   "metadata": {},
   "outputs": [
    {
     "name": "stdout",
     "output_type": "stream",
     "text": [
      "[ 5  9 10  8]\n"
     ]
    }
   ],
   "source": [
    "l = [5, 9, 10, 8]\n",
    "arr = np.array(l)\n",
    "print(arr)"
   ]
  },
  {
   "cell_type": "code",
   "execution_count": 19,
   "id": "chemical-dodge",
   "metadata": {},
   "outputs": [
    {
     "name": "stdout",
     "output_type": "stream",
     "text": [
      "np.arange(3) = [0 1 2]\n",
      "\n",
      "np.arange( start = 3 ) = [0 1 2]\n",
      "\n",
      "np.arange(3.0) = [0. 1. 2.]\n",
      "\n",
      "np.arange(3.2) = [0. 1. 2. 3.]\n",
      "\n",
      "np.arange(3,7.000001) = [3. 4. 5. 6. 7.]\n",
      "\n",
      "np.arange(3, 7.1, 2) = [3. 5. 7.]\n",
      "\n",
      "np.arange(start = 3, stop = 7.1, step = 2)  = [3. 5. 7.]\n",
      "\n",
      "np.array( list( range(3, 7, 2) ) ) = [3 5]\n"
     ]
    }
   ],
   "source": [
    "print( f\"np.arange(3) = { np.arange(3) }\")\n",
    "print()\n",
    "print( f\"np.arange( start = 3 ) = { np.arange( start = 3 ) }\" )\n",
    "print()\n",
    "print( f\"np.arange(3.0) = { np.arange(3.0) }\" )\n",
    "print()\n",
    "print( f\"np.arange(3.2) = { np.arange(3.2) }\" )\n",
    "print()\n",
    "print( f\"np.arange(3,7.000001) = { np.arange(3, 7.000001) }\" )\n",
    "print()\n",
    "print( f\"np.arange(3, 7.1, 2) = { np.arange(3, 7.1, 2) }\" )# 3 start, 7.1 stop, 2 step\n",
    "print()\n",
    "print( f\"np.arange(start = 3, stop = 7.1, step = 2)  = { np.arange(start = 3, stop = 7.1, step = 2) }\" )\n",
    "print()\n",
    "print( f\"np.array( list( range(3, 7, 2) ) ) = { np.array( list( range(3, 7, 2) ) ) }\" )"
   ]
  },
  {
   "cell_type": "code",
   "execution_count": 21,
   "id": "systematic-shoot",
   "metadata": {},
   "outputs": [
    {
     "name": "stdout",
     "output_type": "stream",
     "text": [
      "[10  8  6  4  2]\n",
      "[10  8  6  4  2]\n"
     ]
    }
   ],
   "source": [
    "print( np.array( list( range( 10, 1, -2 ) ) ) )\n",
    "print( np.arange( 10, 1, -2 ) )"
   ]
  },
  {
   "cell_type": "code",
   "execution_count": 22,
   "id": "considered-onion",
   "metadata": {},
   "outputs": [
    {
     "data": {
      "text/plain": [
       "array([ 1,  2,  3,  4,  5,  6,  7,  8,  9, 10, 11, 12])"
      ]
     },
     "execution_count": 22,
     "metadata": {},
     "output_type": "execute_result"
    }
   ],
   "source": [
    "arr1 = np.arange( 1, 13 )\n",
    "arr1"
   ]
  },
  {
   "cell_type": "code",
   "execution_count": 23,
   "id": "organizational-decimal",
   "metadata": {},
   "outputs": [
    {
     "data": {
      "text/plain": [
       "array([[ 1,  2,  3,  4],\n",
       "       [ 5,  6,  7,  8],\n",
       "       [ 9, 10, 11, 12]])"
      ]
     },
     "execution_count": 23,
     "metadata": {},
     "output_type": "execute_result"
    }
   ],
   "source": [
    "arr1 = arr1.reshape( (3, 4) )\n",
    "arr1"
   ]
  },
  {
   "cell_type": "code",
   "execution_count": 25,
   "id": "actual-aviation",
   "metadata": {},
   "outputs": [
    {
     "data": {
      "text/plain": [
       "array([ 1,  2,  3,  4,  5,  6,  7,  8,  9, 10, 11, 12])"
      ]
     },
     "execution_count": 25,
     "metadata": {},
     "output_type": "execute_result"
    }
   ],
   "source": [
    "arr1 = arr1.ravel() #make 2D to 1D\n",
    "arr1"
   ]
  },
  {
   "cell_type": "code",
   "execution_count": 26,
   "id": "silver-ghana",
   "metadata": {},
   "outputs": [
    {
     "data": {
      "text/plain": [
       "12"
      ]
     },
     "execution_count": 26,
     "metadata": {},
     "output_type": "execute_result"
    }
   ],
   "source": [
    "#How to know posible reshapes dimension of any numpy array ?\n",
    "arr_len = len( arr1 )\n",
    "arr_len"
   ]
  },
  {
   "cell_type": "code",
   "execution_count": 27,
   "id": "finnish-witness",
   "metadata": {},
   "outputs": [
    {
     "name": "stdout",
     "output_type": "stream",
     "text": [
      "[[1, 12], [2, 6], [3, 4], [4, 3], [6, 2], [12, 1]]\n"
     ]
    }
   ],
   "source": [
    "dimension = []\n",
    "\n",
    "for i in range( 1, arr_len + 1 ):\n",
    "    \n",
    "    if( (arr_len%i) == 0 ):\n",
    "        temp = []\n",
    "        temp.append( i )\n",
    "        temp.append( arr_len//i )\n",
    "        dimension.append( temp )\n",
    "\n",
    "print( dimension )"
   ]
  },
  {
   "cell_type": "code",
   "execution_count": 28,
   "id": "wooden-arbor",
   "metadata": {},
   "outputs": [
    {
     "name": "stdout",
     "output_type": "stream",
     "text": [
      "[[ 1  2  3  4  5  6  7  8  9 10 11 12]]\n",
      "\n",
      "[[ 1  2  3  4  5  6]\n",
      " [ 7  8  9 10 11 12]]\n",
      "\n",
      "[[ 1  2  3  4]\n",
      " [ 5  6  7  8]\n",
      " [ 9 10 11 12]]\n",
      "\n",
      "[[ 1  2  3]\n",
      " [ 4  5  6]\n",
      " [ 7  8  9]\n",
      " [10 11 12]]\n",
      "\n",
      "[[ 1  2]\n",
      " [ 3  4]\n",
      " [ 5  6]\n",
      " [ 7  8]\n",
      " [ 9 10]\n",
      " [11 12]]\n",
      "\n",
      "[[ 1]\n",
      " [ 2]\n",
      " [ 3]\n",
      " [ 4]\n",
      " [ 5]\n",
      " [ 6]\n",
      " [ 7]\n",
      " [ 8]\n",
      " [ 9]\n",
      " [10]\n",
      " [11]\n",
      " [12]]\n",
      "\n"
     ]
    }
   ],
   "source": [
    "for i in dimension:\n",
    "    \n",
    "    print( arr1.reshape( ( i[0], i[1] ) ) )\n",
    "    print()"
   ]
  },
  {
   "cell_type": "code",
   "execution_count": null,
   "id": "noted-clerk",
   "metadata": {},
   "outputs": [],
   "source": []
  }
 ],
 "metadata": {
  "kernelspec": {
   "display_name": "Python 3",
   "language": "python",
   "name": "python3"
  },
  "language_info": {
   "codemirror_mode": {
    "name": "ipython",
    "version": 3
   },
   "file_extension": ".py",
   "mimetype": "text/x-python",
   "name": "python",
   "nbconvert_exporter": "python",
   "pygments_lexer": "ipython3",
   "version": "3.7.9"
  }
 },
 "nbformat": 4,
 "nbformat_minor": 5
}
