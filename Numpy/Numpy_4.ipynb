{
 "cells": [
  {
   "cell_type": "code",
   "execution_count": 1,
   "id": "rational-schema",
   "metadata": {},
   "outputs": [],
   "source": [
    "import numpy as np\n",
    "#DealingWithBooleanValues"
   ]
  },
  {
   "cell_type": "code",
   "execution_count": 4,
   "id": "immune-recipe",
   "metadata": {},
   "outputs": [
    {
     "name": "stdout",
     "output_type": "stream",
     "text": [
      "[[ 0  3  6  9]\n",
      " [10 13 16 19]\n",
      " [20 23 26 29]]\n"
     ]
    }
   ],
   "source": [
    "arr = np.array( [ list( range(0, 10, 3) ), list( range(10, 20, 3) ), list( range(20, 30, 3) ) ] )\n",
    "print(arr)"
   ]
  },
  {
   "cell_type": "code",
   "execution_count": 6,
   "id": "neutral-emission",
   "metadata": {},
   "outputs": [
    {
     "name": "stdout",
     "output_type": "stream",
     "text": [
      "Following is newarr1,\n",
      "[[False False False False]\n",
      " [False False  True  True]\n",
      " [ True  True  True  True]]\n",
      "\n"
     ]
    }
   ],
   "source": [
    "#Method 1 :- \n",
    "newarr1 = arr > 13 #greater than 13 true and equal and lessthan 13 false\n",
    "print( newarr1 )\n",
    "print()"
   ]
  },
  {
   "cell_type": "code",
   "execution_count": 14,
   "id": "piano-exercise",
   "metadata": {},
   "outputs": [
    {
     "name": "stdout",
     "output_type": "stream",
     "text": [
      "[True, True, True, True]\n",
      "[[False, False, False, False], [False, False, True, True], [True, True, True, True]]\n",
      "[16 19 20 23 26 29]\n"
     ]
    }
   ],
   "source": [
    "#Method 2( Algorithm Based ) :- \n",
    "newarr2 = []\n",
    "\n",
    "for i in arr:     #[0 3 6 9], [ 10 13 16 19 ]\n",
    "    temp = []\n",
    "    for j in i:   # 13\n",
    "        temp.append( j > 13 )   #temp = [False, False, True, True]\n",
    "    \n",
    "    newarr2.append( temp )   #[], [ [False, False, False, False], [False, False, True, True], [True, True, True, True] ]\n",
    "print(temp)\n",
    "print(newarr2)\n"
   ]
  },
  {
   "cell_type": "code",
   "execution_count": 12,
   "id": "adopted-moscow",
   "metadata": {},
   "outputs": [
    {
     "name": "stdout",
     "output_type": "stream",
     "text": [
      "[[ 0  3  6  9]\n",
      " [10 13 16 19]\n",
      " [20 23 26 29]]\n",
      "\n",
      "[[False False False False]\n",
      " [False False  True  True]\n",
      " [ True  True  True  True]]\n",
      "\n",
      "arr[ newarr1 ] = [16 19 20 23 26 29]\n",
      "type( arr[newarr1] ) = <class 'numpy.ndarray'>\n",
      "\n"
     ]
    }
   ],
   "source": [
    "#Selecting the value inside array 'arr' elements which are true and satisfies the condition\n",
    "\n",
    "#Method 1 :-\n",
    "print( arr )\n",
    "print()\n",
    "print( newarr1 )\n",
    "print()\n",
    "print(f\"arr[ newarr1 ] = {arr[ newarr1 ]}\" )\n",
    "print(f\"type( arr[newarr1] ) = { type( arr[newarr1] ) }\" )\n",
    "print()"
   ]
  },
  {
   "cell_type": "code",
   "execution_count": 19,
   "id": "brief-suspension",
   "metadata": {},
   "outputs": [
    {
     "name": "stdout",
     "output_type": "stream",
     "text": [
      "[[ 0  3  6  9]\n",
      " [10 13 16 19]\n",
      " [20 23 26 29]]\n",
      "\n",
      "[[False False False False]\n",
      " [False False  True  True]\n",
      " [ True  True  True  True]]\n",
      "\n",
      "len(arr) = 3\n",
      "[16, 19, 20, 23, 26, 29]\n",
      "<class 'list'>\n",
      "l = [16 19 20 23 26 29],type = <class 'numpy.ndarray'>\n"
     ]
    }
   ],
   "source": [
    "print( arr )\n",
    "print()\n",
    "print( newarr1 )\n",
    "print()\n",
    "l = []\n",
    "\n",
    "print( f\"len(arr) = { len(arr) }\" )\n",
    "\n",
    "for i in range( len( arr ) ):   #0, 1, 2\n",
    "    templist = list( arr[i])  #arr[0] = [0 3 6 9] -> [0, 3, 6, 9]\n",
    "    \n",
    "    for j in range( len(templist) ): #0, 1, 2, 3  \n",
    "        if( newarr1[i][j]):\n",
    "            l.append( arr[i][j] )\n",
    "print(l)\n",
    "print(type(l))\n",
    "l = np.array(l)\n",
    "print(f\"l = {l},type = {type(l)}\")"
   ]
  },
  {
   "cell_type": "code",
   "execution_count": 20,
   "id": "prepared-worthy",
   "metadata": {},
   "outputs": [
    {
     "name": "stdout",
     "output_type": "stream",
     "text": [
      "[[ 0  3  6  9]\n",
      " [10 13 16 19]\n",
      " [20 23 26 29]]\n",
      "\n",
      "arr[ arr%2 == 0 ] = [ 0  6 10 16 20 26]\n"
     ]
    }
   ],
   "source": [
    "print( arr )\n",
    "print()\n",
    "print(f\"arr[ arr%2 == 0 ] = {arr[ arr%2 == 0 ]}\")"
   ]
  },
  {
   "cell_type": "code",
   "execution_count": null,
   "id": "received-compression",
   "metadata": {},
   "outputs": [],
   "source": []
  }
 ],
 "metadata": {
  "kernelspec": {
   "display_name": "Python 3",
   "language": "python",
   "name": "python3"
  },
  "language_info": {
   "codemirror_mode": {
    "name": "ipython",
    "version": 3
   },
   "file_extension": ".py",
   "mimetype": "text/x-python",
   "name": "python",
   "nbconvert_exporter": "python",
   "pygments_lexer": "ipython3",
   "version": "3.7.9"
  }
 },
 "nbformat": 4,
 "nbformat_minor": 5
}
