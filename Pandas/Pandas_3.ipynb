{
 "cells": [
  {
   "cell_type": "code",
   "execution_count": 35,
   "id": "choice-roads",
   "metadata": {},
   "outputs": [],
   "source": [
    "#Arithmetic and Logical Operator on Pandas DataFrames\n",
    "import pandas as pd\n"
   ]
  },
  {
   "cell_type": "code",
   "execution_count": 4,
   "id": "first-aruba",
   "metadata": {},
   "outputs": [],
   "source": [
    "l1 = [200, 9000, 12, 67]\n",
    "l2 = [2000, 900, 120, 670]"
   ]
  },
  {
   "cell_type": "code",
   "execution_count": 6,
   "id": "auburn-production",
   "metadata": {},
   "outputs": [],
   "source": [
    "s1 = pd.Series( data = l1, index = ['one', 'two', 'three', 'four'] )\n",
    "s2 = pd.Series( data = l2, index = ['one', 'two', 'three', 'four'] )\n",
    "s3 = pd.Series( data = l2, index = ['one', 'two', 'three', 'five'] )"
   ]
  },
  {
   "cell_type": "code",
   "execution_count": 7,
   "id": "quantitative-litigation",
   "metadata": {},
   "outputs": [],
   "source": [
    "d2 = { 's1' : s1, 's2' : s2, 's3' : s3 }"
   ]
  },
  {
   "cell_type": "code",
   "execution_count": 21,
   "id": "sapphire-carolina",
   "metadata": {},
   "outputs": [
    {
     "data": {
      "text/html": [
       "<div>\n",
       "<style scoped>\n",
       "    .dataframe tbody tr th:only-of-type {\n",
       "        vertical-align: middle;\n",
       "    }\n",
       "\n",
       "    .dataframe tbody tr th {\n",
       "        vertical-align: top;\n",
       "    }\n",
       "\n",
       "    .dataframe thead th {\n",
       "        text-align: right;\n",
       "    }\n",
       "</style>\n",
       "<table border=\"1\" class=\"dataframe\">\n",
       "  <thead>\n",
       "    <tr style=\"text-align: right;\">\n",
       "      <th></th>\n",
       "      <th>s1</th>\n",
       "      <th>s2</th>\n",
       "      <th>s3</th>\n",
       "    </tr>\n",
       "  </thead>\n",
       "  <tbody>\n",
       "    <tr>\n",
       "      <th>five</th>\n",
       "      <td>NaN</td>\n",
       "      <td>NaN</td>\n",
       "      <td>670.0</td>\n",
       "    </tr>\n",
       "    <tr>\n",
       "      <th>four</th>\n",
       "      <td>67.0</td>\n",
       "      <td>670.0</td>\n",
       "      <td>NaN</td>\n",
       "    </tr>\n",
       "    <tr>\n",
       "      <th>one</th>\n",
       "      <td>200.0</td>\n",
       "      <td>2000.0</td>\n",
       "      <td>2000.0</td>\n",
       "    </tr>\n",
       "    <tr>\n",
       "      <th>three</th>\n",
       "      <td>12.0</td>\n",
       "      <td>120.0</td>\n",
       "      <td>120.0</td>\n",
       "    </tr>\n",
       "    <tr>\n",
       "      <th>two</th>\n",
       "      <td>9000.0</td>\n",
       "      <td>900.0</td>\n",
       "      <td>900.0</td>\n",
       "    </tr>\n",
       "  </tbody>\n",
       "</table>\n",
       "</div>"
      ],
      "text/plain": [
       "           s1      s2      s3\n",
       "five      NaN     NaN   670.0\n",
       "four     67.0   670.0     NaN\n",
       "one     200.0  2000.0  2000.0\n",
       "three    12.0   120.0   120.0\n",
       "two    9000.0   900.0   900.0"
      ]
     },
     "execution_count": 21,
     "metadata": {},
     "output_type": "execute_result"
    }
   ],
   "source": [
    "pddf = pd.DataFrame( d2 )\n",
    "pddf"
   ]
  },
  {
   "cell_type": "code",
   "execution_count": 23,
   "id": "focal-announcement",
   "metadata": {},
   "outputs": [
    {
     "name": "stdout",
     "output_type": "stream",
     "text": [
      "pddf['s1'] :- \n",
      "five        NaN\n",
      "four      670.0\n",
      "one      2000.0\n",
      "three     120.0\n",
      "two       900.0\n",
      "Name: s2, dtype: float64\n",
      "\n",
      "pddf['s2'] :- \n",
      "five        NaN\n",
      "four      670.0\n",
      "one      2000.0\n",
      "three     120.0\n",
      "two       900.0\n",
      "Name: s2, dtype: float64\n",
      "\n",
      "pddf['s3'] :- \n",
      "five      670.0\n",
      "four        NaN\n",
      "one      2000.0\n",
      "three     120.0\n",
      "two       900.0\n",
      "Name: s3, dtype: float64\n",
      "\n",
      "\n",
      "pddf['s2'] + pddf['s3'] :- \n",
      "five        NaN\n",
      "four        NaN\n",
      "one      4000.0\n",
      "three     240.0\n",
      "two      1800.0\n",
      "dtype: float64\n",
      "\n"
     ]
    }
   ],
   "source": [
    "print( f\"pddf['s1'] :- \\n{ pddf['s2'] }\\n\" )\n",
    "print( f\"pddf['s2'] :- \\n{ pddf['s2'] }\\n\" )\n",
    "print( f\"pddf['s3'] :- \\n{ pddf['s3'] }\\n\" )\n",
    "print()\n",
    "print( f\"pddf['s2'] + pddf['s3'] :- \\n{ pddf['s2'] + pddf['s3'] }\\n\" )"
   ]
  },
  {
   "cell_type": "code",
   "execution_count": 29,
   "id": "after-poster",
   "metadata": {},
   "outputs": [
    {
     "name": "stdout",
     "output_type": "stream",
     "text": [
      "i = 0, pddf['s1'][i] = nan, pddf['s2'][i] = nan and pddf['s1'][i] + pddf['s2'][i] = nan\n",
      "i = 1, pddf['s1'][i] = 67.0, pddf['s2'][i] = 670.0 and pddf['s1'][i] + pddf['s2'][i] = 737.0\n",
      "i = 2, pddf['s1'][i] = 200.0, pddf['s2'][i] = 2000.0 and pddf['s1'][i] + pddf['s2'][i] = 2200.0\n",
      "i = 3, pddf['s1'][i] = 12.0, pddf['s2'][i] = 120.0 and pddf['s1'][i] + pddf['s2'][i] = 132.0\n",
      "i = 4, pddf['s1'][i] = 9000.0, pddf['s2'][i] = 900.0 and pddf['s1'][i] + pddf['s2'][i] = 9900.0\n",
      "[  nan  737. 2200.  132. 9900.]\n"
     ]
    }
   ],
   "source": [
    "add = []\n",
    "for i in range( len( pddf.index ) ):\n",
    "    print( f\"i = { i }, pddf['s1'][i] = { pddf['s1'][i] }, pddf['s2'][i] = { pddf['s2'][i] } and pddf['s1'][i] + pddf['s2'][i] = { pddf['s1'][i] + pddf['s2'][i] }\" )\n",
    "    add.append( pddf['s1'][i] + pddf['s2'][i] )\n",
    "print(add)"
   ]
  },
  {
   "cell_type": "code",
   "execution_count": 43,
   "id": "mexican-rochester",
   "metadata": {},
   "outputs": [
    {
     "name": "stdout",
     "output_type": "stream",
     "text": [
      "5\n"
     ]
    },
    {
     "data": {
      "text/html": [
       "<div>\n",
       "<style scoped>\n",
       "    .dataframe tbody tr th:only-of-type {\n",
       "        vertical-align: middle;\n",
       "    }\n",
       "\n",
       "    .dataframe tbody tr th {\n",
       "        vertical-align: top;\n",
       "    }\n",
       "\n",
       "    .dataframe thead th {\n",
       "        text-align: right;\n",
       "    }\n",
       "</style>\n",
       "<table border=\"1\" class=\"dataframe\">\n",
       "  <thead>\n",
       "    <tr style=\"text-align: right;\">\n",
       "      <th></th>\n",
       "      <th>s1</th>\n",
       "      <th>s2</th>\n",
       "      <th>s3</th>\n",
       "    </tr>\n",
       "  </thead>\n",
       "  <tbody>\n",
       "    <tr>\n",
       "      <th>five</th>\n",
       "      <td>0.0</td>\n",
       "      <td>0.0</td>\n",
       "      <td>670.0</td>\n",
       "    </tr>\n",
       "    <tr>\n",
       "      <th>four</th>\n",
       "      <td>67.0</td>\n",
       "      <td>670.0</td>\n",
       "      <td>0.0</td>\n",
       "    </tr>\n",
       "    <tr>\n",
       "      <th>one</th>\n",
       "      <td>200.0</td>\n",
       "      <td>2000.0</td>\n",
       "      <td>2000.0</td>\n",
       "    </tr>\n",
       "    <tr>\n",
       "      <th>three</th>\n",
       "      <td>12.0</td>\n",
       "      <td>120.0</td>\n",
       "      <td>120.0</td>\n",
       "    </tr>\n",
       "    <tr>\n",
       "      <th>two</th>\n",
       "      <td>9000.0</td>\n",
       "      <td>900.0</td>\n",
       "      <td>900.0</td>\n",
       "    </tr>\n",
       "  </tbody>\n",
       "</table>\n",
       "</div>"
      ],
      "text/plain": [
       "           s1      s2      s3\n",
       "five      0.0     0.0   670.0\n",
       "four     67.0   670.0     0.0\n",
       "one     200.0  2000.0  2000.0\n",
       "three    12.0   120.0   120.0\n",
       "two    9000.0   900.0   900.0"
      ]
     },
     "execution_count": 43,
     "metadata": {},
     "output_type": "execute_result"
    }
   ],
   "source": [
    "for i in range( len( pddf.index ) ):\n",
    "    val1 = pddf['s2'][i]\n",
    "    val2 = pddf['s3'][i]\n",
    "    val3 = pddf['s1'][i]\n",
    "    if( str( val1 ) == 'nan' ):\n",
    "        pddf['s2'][i] = 0\n",
    "    if (str( pddf['s3'][i] ) == 'nan'):\n",
    "       pddf['s3'][i]= 0\n",
    "    if (str( pddf['s1'][i] ) == 'nan'):\n",
    "       pddf['s1'][i]= 0\n",
    "#print(len(pddf.index))\n",
    "pddf"
   ]
  },
  {
   "cell_type": "code",
   "execution_count": 45,
   "id": "freelance-reconstruction",
   "metadata": {},
   "outputs": [
    {
     "name": "stdout",
     "output_type": "stream",
     "text": [
      "pddf['s1'] - pddf['s2'] :- \n",
      "five        0.0\n",
      "four     -603.0\n",
      "one     -1800.0\n",
      "three    -108.0\n",
      "two      8100.0\n",
      "dtype: float64\n",
      "\n",
      "pddf['s1'] * pddf['s3'] :- \n",
      "five           0.0\n",
      "four           0.0\n",
      "one       400000.0\n",
      "three       1440.0\n",
      "two      8100000.0\n",
      "dtype: float64\n",
      "\n"
     ]
    }
   ],
   "source": [
    "print( f\"pddf['s1'] - pddf['s2'] :- \\n{ pddf['s1'] - pddf['s2'] }\\n\" )\n",
    "print( f\"pddf['s1'] * pddf['s3'] :- \\n{ pddf['s1'] * pddf['s3'] }\\n\" )"
   ]
  },
  {
   "cell_type": "code",
   "execution_count": 47,
   "id": "practical-chuck",
   "metadata": {},
   "outputs": [
    {
     "name": "stdout",
     "output_type": "stream",
     "text": [
      "pddf['s1'] > 100\n",
      "five     False\n",
      "four     False\n",
      "one       True\n",
      "three    False\n",
      "two       True\n",
      "Name: s1, dtype: bool\n",
      "\n",
      "pddf['s1'] < 100 :- \n",
      "five      True\n",
      "four      True\n",
      "one       True\n",
      "three     True\n",
      "two      False\n",
      "Name: s1, dtype: bool\n",
      "\n"
     ]
    }
   ],
   "source": [
    "print( f\"pddf['s1'] > 100\\n{ pddf['s1'] > 100 }\\n\" )\n",
    "print( f\"pddf['s1'] < 100 :- \\n{ pddf['s1'] < 1000 }\\n\" )"
   ]
  },
  {
   "cell_type": "code",
   "execution_count": 48,
   "id": "reasonable-angel",
   "metadata": {},
   "outputs": [
    {
     "name": "stdout",
     "output_type": "stream",
     "text": [
      "( pddf['s1'] > 100 ) & ( pddf['s1'] < 1000 ) :- \n",
      "five     False\n",
      "four     False\n",
      "one       True\n",
      "three    False\n",
      "two      False\n",
      "Name: s1, dtype: bool\n",
      "\n"
     ]
    }
   ],
   "source": [
    "print( f\"( pddf['s1'] > 100 ) & ( pddf['s1'] < 1000 ) :- \\n{ ( pddf['s1'] > 100 ) & ( pddf['s1'] < 1000 ) }\\n\" )"
   ]
  },
  {
   "cell_type": "code",
   "execution_count": null,
   "id": "incomplete-lyric",
   "metadata": {},
   "outputs": [],
   "source": []
  }
 ],
 "metadata": {
  "kernelspec": {
   "display_name": "Python 3",
   "language": "python",
   "name": "python3"
  },
  "language_info": {
   "codemirror_mode": {
    "name": "ipython",
    "version": 3
   },
   "file_extension": ".py",
   "mimetype": "text/x-python",
   "name": "python",
   "nbconvert_exporter": "python",
   "pygments_lexer": "ipython3",
   "version": "3.7.9"
  }
 },
 "nbformat": 4,
 "nbformat_minor": 5
}
