{
 "cells": [
  {
   "cell_type": "code",
   "execution_count": 1,
   "id": "developmental-croatia",
   "metadata": {},
   "outputs": [],
   "source": [
    "#1. Creating Pandas Series\n",
    "#2. Data and Index parameters\n",
    "#3. n(index) = n(data)\n",
    "#4. Mutability Checking -> Panda Series is Mutable\n",
    "\n",
    "import pandas as pd"
   ]
  },
  {
   "cell_type": "code",
   "execution_count": 10,
   "id": "confidential-hindu",
   "metadata": {},
   "outputs": [
    {
     "name": "stdout",
     "output_type": "stream",
     "text": [
      "[1, 2, 3, 4, 5]\n",
      "\n",
      "[6, 7, 8, 9, 10]\n",
      "\n",
      "[11, 12, 13, 14, 15]\n",
      "\n",
      "[16, 17, 18, 19, 20]\n",
      "\n"
     ]
    }
   ],
   "source": [
    "list1 = list( range( 1, 6 ) )\n",
    "print(list1)\n",
    "print()\n",
    "list2 = list( range( 6, 11 ) )\n",
    "print(list2)\n",
    "print()\n",
    "list3 = list( range( 11, 16 ) )\n",
    "print(list3)\n",
    "print()\n",
    "list4 = list(range( 16, 21 ) )\n",
    "print(list4)\n",
    "print()"
   ]
  },
  {
   "cell_type": "code",
   "execution_count": 18,
   "id": "familiar-pontiac",
   "metadata": {},
   "outputs": [
    {
     "name": "stdout",
     "output_type": "stream",
     "text": [
      "0    1\n",
      "1    2\n",
      "2    3\n",
      "3    4\n",
      "4    5\n",
      "dtype: int64\n",
      "\n",
      "0     6\n",
      "1     7\n",
      "2     8\n",
      "3     9\n",
      "4    10\n",
      "dtype: int64\n",
      "\n",
      "0    11\n",
      "1    12\n",
      "2    13\n",
      "3    14\n",
      "4    15\n",
      "dtype: int64\n",
      "\n",
      "0    16\n",
      "1    17\n",
      "2    18\n",
      "3    19\n",
      "4    20\n",
      "dtype: int64\n",
      "\n"
     ]
    }
   ],
   "source": [
    "pds1 = pd.Series( list1 )\n",
    "print(pds1)\n",
    "print()\n",
    "pds2 = pd.Series( list2 )\n",
    "print(pds2)\n",
    "print()\n",
    "pds3 = pd.Series( list3 )\n",
    "print(pds3)\n",
    "print()\n",
    "pds4 = pd.Series( list4 )\n",
    "print(pds4)\n",
    "print()"
   ]
  },
  {
   "cell_type": "code",
   "execution_count": 21,
   "id": "parallel-upgrade",
   "metadata": {},
   "outputs": [
    {
     "name": "stdout",
     "output_type": "stream",
     "text": [
      "pd.Series( range( 1, 6 ) ) :- \n",
      "0    1\n",
      "1    2\n",
      "2    3\n",
      "3    4\n",
      "4    5\n",
      "dtype: int64\n",
      "\n"
     ]
    }
   ],
   "source": [
    "print( f\"pd.Series( range( 1, 6 ) ) :- \\n{ pd.Series( range( 1, 6 ) ) }\\n\" )"
   ]
  },
  {
   "cell_type": "code",
   "execution_count": 22,
   "id": "attractive-potential",
   "metadata": {},
   "outputs": [
    {
     "name": "stdout",
     "output_type": "stream",
     "text": [
      "a    1\n",
      "b    2\n",
      "c    3\n",
      "d    4\n",
      "e    5\n",
      "dtype: int64\n"
     ]
    }
   ],
   "source": [
    "pds1 = pd.Series( range( 1, 6 ),    [ 'a', 'b', 'c', 'd', 'e' ] )\n",
    "print(pds1)"
   ]
  },
  {
   "cell_type": "code",
   "execution_count": 25,
   "id": "southeast-treasury",
   "metadata": {},
   "outputs": [
    {
     "name": "stdout",
     "output_type": "stream",
     "text": [
      "pds1[0] = 1 and pds1['a'] = 1\n",
      "pds1[1] = 2 and pds1['b'] = 2\n",
      "pds1[2] = 3 and pds1['c'] = 3\n",
      "pds1[3] = 4 and pds1['d'] = 4\n",
      "pds1[4] = 5 and pds1['e'] = 5\n"
     ]
    }
   ],
   "source": [
    "print( f\"pds1[0] = { pds1[0] } and pds1['a'] = { pds1['a'] }\" )\n",
    "print( f\"pds1[1] = { pds1[1] } and pds1['b'] = { pds1['b'] }\" )\n",
    "print( f\"pds1[2] = { pds1[2] } and pds1['c'] = { pds1['c'] }\" )\n",
    "print( f\"pds1[3] = { pds1[3] } and pds1['d'] = { pds1['d'] }\" )\n",
    "print( f\"pds1[4] = { pds1[4] } and pds1['e'] = { pds1['e'] }\" )"
   ]
  },
  {
   "cell_type": "code",
   "execution_count": 26,
   "id": "killing-subdivision",
   "metadata": {},
   "outputs": [
    {
     "name": "stdout",
     "output_type": "stream",
     "text": [
      "pds1:- \n",
      "a    1\n",
      "b    2\n",
      "c    3\n",
      "d    4\n",
      "e    5\n",
      "dtype: int64\n",
      "\n",
      "pds2 :- \n",
      "1    a\n",
      "2    b\n",
      "3    c\n",
      "4    d\n",
      "5    e\n",
      "dtype: object\n",
      "\n"
     ]
    }
   ],
   "source": [
    "pds1 = pd.Series( range( 1, 6 ),    [ 'a', 'b', 'c', 'd', 'e' ] )\n",
    "pds2 = pd.Series( [ 'a', 'b', 'c', 'd', 'e' ], range( 1, 6 ) ) \n",
    "print( f\"pds1:- \\n{ pds1}\\n\" )\n",
    "print( f\"pds2 :- \\n{ pds2 }\\n\" )"
   ]
  },
  {
   "cell_type": "code",
   "execution_count": 27,
   "id": "golden-billy",
   "metadata": {},
   "outputs": [
    {
     "name": "stdout",
     "output_type": "stream",
     "text": [
      "pds2 :- \n",
      "a    1\n",
      "b    2\n",
      "c    3\n",
      "d    4\n",
      "e    5\n",
      "dtype: int64\n",
      "\n"
     ]
    }
   ],
   "source": [
    "##No of index = no of data\n",
    "pds2 = pd.Series( index = [ 'a', 'b', 'c', 'd', 'e' ], data = range( 1, 6 ) )\n",
    "print( f\"pds2 :- \\n{ pds2 }\\n\" )"
   ]
  },
  {
   "cell_type": "code",
   "execution_count": 28,
   "id": "adjacent-bathroom",
   "metadata": {},
   "outputs": [
    {
     "ename": "ValueError",
     "evalue": "Length of passed values is 5, index implies 6.",
     "output_type": "error",
     "traceback": [
      "\u001b[1;31m---------------------------------------------------------------------------\u001b[0m",
      "\u001b[1;31mValueError\u001b[0m                                Traceback (most recent call last)",
      "\u001b[1;32m<ipython-input-28-0f3351b6adbf>\u001b[0m in \u001b[0;36m<module>\u001b[1;34m\u001b[0m\n\u001b[0;32m      1\u001b[0m \u001b[1;31m#No of index > no of data\u001b[0m\u001b[1;33m\u001b[0m\u001b[1;33m\u001b[0m\u001b[1;33m\u001b[0m\u001b[0m\n\u001b[1;32m----> 2\u001b[1;33m \u001b[0mpds2\u001b[0m \u001b[1;33m=\u001b[0m \u001b[0mpd\u001b[0m\u001b[1;33m.\u001b[0m\u001b[0mSeries\u001b[0m\u001b[1;33m(\u001b[0m \u001b[0mindex\u001b[0m \u001b[1;33m=\u001b[0m \u001b[1;33m[\u001b[0m \u001b[1;34m'a'\u001b[0m\u001b[1;33m,\u001b[0m \u001b[1;34m'b'\u001b[0m\u001b[1;33m,\u001b[0m \u001b[1;34m'c'\u001b[0m\u001b[1;33m,\u001b[0m \u001b[1;34m'd'\u001b[0m\u001b[1;33m,\u001b[0m \u001b[1;34m'e'\u001b[0m\u001b[1;33m,\u001b[0m \u001b[1;34m'f'\u001b[0m \u001b[1;33m]\u001b[0m\u001b[1;33m,\u001b[0m \u001b[0mdata\u001b[0m \u001b[1;33m=\u001b[0m \u001b[0mrange\u001b[0m\u001b[1;33m(\u001b[0m \u001b[1;36m1\u001b[0m\u001b[1;33m,\u001b[0m \u001b[1;36m6\u001b[0m \u001b[1;33m)\u001b[0m \u001b[1;33m)\u001b[0m\u001b[1;33m\u001b[0m\u001b[1;33m\u001b[0m\u001b[0m\n\u001b[0m\u001b[0;32m      3\u001b[0m \u001b[0mprint\u001b[0m\u001b[1;33m(\u001b[0m \u001b[0mpds2\u001b[0m \u001b[1;33m)\u001b[0m\u001b[1;33m\u001b[0m\u001b[1;33m\u001b[0m\u001b[0m\n",
      "\u001b[1;32mc:\\users\\pc\\appdata\\local\\programs\\python\\python37\\lib\\site-packages\\pandas\\core\\series.py\u001b[0m in \u001b[0;36m__init__\u001b[1;34m(self, data, index, dtype, name, copy, fastpath)\u001b[0m\n\u001b[0;32m    349\u001b[0m                     \u001b[1;32mif\u001b[0m \u001b[0mlen\u001b[0m\u001b[1;33m(\u001b[0m\u001b[0mindex\u001b[0m\u001b[1;33m)\u001b[0m \u001b[1;33m!=\u001b[0m \u001b[0mlen\u001b[0m\u001b[1;33m(\u001b[0m\u001b[0mdata\u001b[0m\u001b[1;33m)\u001b[0m\u001b[1;33m:\u001b[0m\u001b[1;33m\u001b[0m\u001b[1;33m\u001b[0m\u001b[0m\n\u001b[0;32m    350\u001b[0m                         raise ValueError(\n\u001b[1;32m--> 351\u001b[1;33m                             \u001b[1;34mf\"Length of passed values is {len(data)}, \"\u001b[0m\u001b[1;33m\u001b[0m\u001b[1;33m\u001b[0m\u001b[0m\n\u001b[0m\u001b[0;32m    352\u001b[0m                             \u001b[1;34mf\"index implies {len(index)}.\"\u001b[0m\u001b[1;33m\u001b[0m\u001b[1;33m\u001b[0m\u001b[0m\n\u001b[0;32m    353\u001b[0m                         )\n",
      "\u001b[1;31mValueError\u001b[0m: Length of passed values is 5, index implies 6."
     ]
    }
   ],
   "source": [
    "#No of index > no of data\n",
    "pds2 = pd.Series( index = [ 'a', 'b', 'c', 'd', 'e', 'f' ], data = range( 1, 6 ) )\n",
    "print( pds2 )"
   ]
  },
  {
   "cell_type": "code",
   "execution_count": 29,
   "id": "quarterly-arctic",
   "metadata": {},
   "outputs": [
    {
     "ename": "ValueError",
     "evalue": "Length of passed values is 5, index implies 4.",
     "output_type": "error",
     "traceback": [
      "\u001b[1;31m---------------------------------------------------------------------------\u001b[0m",
      "\u001b[1;31mValueError\u001b[0m                                Traceback (most recent call last)",
      "\u001b[1;32m<ipython-input-29-7923957f1ac1>\u001b[0m in \u001b[0;36m<module>\u001b[1;34m\u001b[0m\n\u001b[0;32m      1\u001b[0m \u001b[1;31m#No of index < no of data\u001b[0m\u001b[1;33m\u001b[0m\u001b[1;33m\u001b[0m\u001b[1;33m\u001b[0m\u001b[0m\n\u001b[1;32m----> 2\u001b[1;33m \u001b[0mpds2\u001b[0m \u001b[1;33m=\u001b[0m \u001b[0mpd\u001b[0m\u001b[1;33m.\u001b[0m\u001b[0mSeries\u001b[0m\u001b[1;33m(\u001b[0m \u001b[0mindex\u001b[0m \u001b[1;33m=\u001b[0m \u001b[1;33m[\u001b[0m \u001b[1;34m'a'\u001b[0m\u001b[1;33m,\u001b[0m \u001b[1;34m'b'\u001b[0m\u001b[1;33m,\u001b[0m \u001b[1;34m'c'\u001b[0m\u001b[1;33m,\u001b[0m \u001b[1;34m'd'\u001b[0m \u001b[1;33m]\u001b[0m\u001b[1;33m,\u001b[0m \u001b[0mdata\u001b[0m \u001b[1;33m=\u001b[0m \u001b[0mrange\u001b[0m\u001b[1;33m(\u001b[0m \u001b[1;36m1\u001b[0m\u001b[1;33m,\u001b[0m \u001b[1;36m6\u001b[0m \u001b[1;33m)\u001b[0m \u001b[1;33m)\u001b[0m\u001b[1;33m\u001b[0m\u001b[1;33m\u001b[0m\u001b[0m\n\u001b[0m\u001b[0;32m      3\u001b[0m \u001b[0mprint\u001b[0m\u001b[1;33m(\u001b[0m \u001b[0mpds2\u001b[0m \u001b[1;33m)\u001b[0m\u001b[1;33m\u001b[0m\u001b[1;33m\u001b[0m\u001b[0m\n",
      "\u001b[1;32mc:\\users\\pc\\appdata\\local\\programs\\python\\python37\\lib\\site-packages\\pandas\\core\\series.py\u001b[0m in \u001b[0;36m__init__\u001b[1;34m(self, data, index, dtype, name, copy, fastpath)\u001b[0m\n\u001b[0;32m    349\u001b[0m                     \u001b[1;32mif\u001b[0m \u001b[0mlen\u001b[0m\u001b[1;33m(\u001b[0m\u001b[0mindex\u001b[0m\u001b[1;33m)\u001b[0m \u001b[1;33m!=\u001b[0m \u001b[0mlen\u001b[0m\u001b[1;33m(\u001b[0m\u001b[0mdata\u001b[0m\u001b[1;33m)\u001b[0m\u001b[1;33m:\u001b[0m\u001b[1;33m\u001b[0m\u001b[1;33m\u001b[0m\u001b[0m\n\u001b[0;32m    350\u001b[0m                         raise ValueError(\n\u001b[1;32m--> 351\u001b[1;33m                             \u001b[1;34mf\"Length of passed values is {len(data)}, \"\u001b[0m\u001b[1;33m\u001b[0m\u001b[1;33m\u001b[0m\u001b[0m\n\u001b[0m\u001b[0;32m    352\u001b[0m                             \u001b[1;34mf\"index implies {len(index)}.\"\u001b[0m\u001b[1;33m\u001b[0m\u001b[1;33m\u001b[0m\u001b[0m\n\u001b[0;32m    353\u001b[0m                         )\n",
      "\u001b[1;31mValueError\u001b[0m: Length of passed values is 5, index implies 4."
     ]
    }
   ],
   "source": [
    "#No of index < no of data\n",
    "pds2 = pd.Series( index = [ 'a', 'b', 'c', 'd' ], data = range( 1, 6 ) )\n",
    "print( pds2 )"
   ]
  },
  {
   "cell_type": "code",
   "execution_count": 30,
   "id": "straight-aerospace",
   "metadata": {},
   "outputs": [
    {
     "name": "stdout",
     "output_type": "stream",
     "text": [
      "Before changing pds2[0], pds2 :- \n",
      "a    1\n",
      "b    2\n",
      "c    3\n",
      "d    4\n",
      "e    5\n",
      "dtype: int64\n",
      "\n",
      "\n",
      "\n",
      "After Changing pds2[0], pds2 :- \n",
      "a    10\n",
      "b     2\n",
      "c     3\n",
      "d     4\n",
      "e     5\n",
      "dtype: int64\n",
      "\n"
     ]
    }
   ],
   "source": [
    "#Mutability and Immutability\n",
    "#Changing by integer/ numeric index\n",
    "print(f\"Before changing pds2[0], pds2 :- \\n{ pds2 }\\n\")\n",
    "print()\n",
    "pds2[0] = 10\n",
    "print()\n",
    "print( f\"After Changing pds2[0], pds2 :- \\n{ pds2 }\\n\" )"
   ]
  },
  {
   "cell_type": "code",
   "execution_count": 31,
   "id": "differential-liberia",
   "metadata": {},
   "outputs": [
    {
     "name": "stdout",
     "output_type": "stream",
     "text": [
      "before Changing pds2['b'], pds2 :- \n",
      "a    10\n",
      "b     2\n",
      "c     3\n",
      "d     4\n",
      "e     5\n",
      "dtype: int64\n",
      "\n",
      "\n",
      "\n",
      "After Changing pds2['b'], pds2 :- \n",
      "a    10\n",
      "b    20\n",
      "c     3\n",
      "d     4\n",
      "e     5\n",
      "dtype: int64\n",
      "\n"
     ]
    }
   ],
   "source": [
    "#Changing by custom index\n",
    "print( f\"before Changing pds2['b'], pds2 :- \\n{ pds2 }\\n\" )\n",
    "print()\n",
    "pds2['b'] = 20\n",
    "print()\n",
    "print( f\"After Changing pds2['b'], pds2 :- \\n{ pds2 }\\n\" )"
   ]
  },
  {
   "cell_type": "code",
   "execution_count": 32,
   "id": "dependent-grocery",
   "metadata": {},
   "outputs": [
    {
     "name": "stdout",
     "output_type": "stream",
     "text": [
      "list( range( 1, 6 ) ) = [1, 2, 3, 4, 5]\n"
     ]
    }
   ],
   "source": [
    "print( f\"list( range( 1, 6 ) ) = { list( range( 1, 6 ) ) }\" )"
   ]
  },
  {
   "cell_type": "code",
   "execution_count": 34,
   "id": "blank-exploration",
   "metadata": {},
   "outputs": [
    {
     "data": {
      "text/plain": [
       "a         [1, 2, 3, 4, 5]\n",
       "b        [6, 7, 8, 9, 10]\n",
       "c    [11, 12, 13, 14, 15]\n",
       "d    [16, 17, 18, 19, 20]\n",
       "dtype: object"
      ]
     },
     "execution_count": 34,
     "metadata": {},
     "output_type": "execute_result"
    }
   ],
   "source": [
    "pds2 = pd.Series( index = [ 'a', 'b', 'c', 'd' ], data = [ list( range( 1, 6 ) )\n",
    "                                                         , list( range( 6, 11 ) )\n",
    "                                                         , list( range( 11, 16 ) )\n",
    "                                                         , list( range( 16, 21 ) ) ] )\n",
    "pds2"
   ]
  },
  {
   "cell_type": "code",
   "execution_count": null,
   "id": "little-parts",
   "metadata": {},
   "outputs": [],
   "source": []
  }
 ],
 "metadata": {
  "kernelspec": {
   "display_name": "Python 3",
   "language": "python",
   "name": "python3"
  },
  "language_info": {
   "codemirror_mode": {
    "name": "ipython",
    "version": 3
   },
   "file_extension": ".py",
   "mimetype": "text/x-python",
   "name": "python",
   "nbconvert_exporter": "python",
   "pygments_lexer": "ipython3",
   "version": "3.7.9"
  }
 },
 "nbformat": 4,
 "nbformat_minor": 5
}
