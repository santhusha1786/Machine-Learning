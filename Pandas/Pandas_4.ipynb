{
 "cells": [
  {
   "cell_type": "code",
   "execution_count": 1,
   "id": "impressive-night",
   "metadata": {},
   "outputs": [],
   "source": [
    "#Deletion, Insertion and Slicing of DataFrames\n",
    "import pandas as pd"
   ]
  },
  {
   "cell_type": "code",
   "execution_count": 2,
   "id": "consistent-hospital",
   "metadata": {},
   "outputs": [
    {
     "data": {
      "text/plain": [
       "'\\n1) Data Deletion -> pop( index ), del\\n2) Data Insertion   -> a) Direct Method,  b) join()\\n'"
      ]
     },
     "execution_count": 2,
     "metadata": {},
     "output_type": "execute_result"
    }
   ],
   "source": [
    "\"\"\"\n",
    "1) Data Deletion -> pop( index ), del\n",
    "2) Data Insertion   -> a) Direct Method,  b) join()\n",
    "\"\"\""
   ]
  },
  {
   "cell_type": "code",
   "execution_count": 8,
   "id": "mounted-amount",
   "metadata": {},
   "outputs": [
    {
     "name": "stdout",
     "output_type": "stream",
     "text": [
      "pddf :- \n",
      "             Series1  Series2  Series3  Series4  Series5  Series6\n",
      "eighteen         NaN     18.0      NaN      NaN     18.0      NaN\n",
      "eleven           NaN      NaN      NaN      NaN     11.0      NaN\n",
      "fifteen          NaN      NaN      NaN      NaN     15.0      NaN\n",
      "five             5.0      NaN      NaN      NaN      NaN      NaN\n",
      "forteen          NaN     14.0      NaN      NaN     14.0      NaN\n",
      "nine             9.0      NaN      NaN      NaN      NaN      NaN\n",
      "nineteen         NaN      NaN      NaN      NaN     19.0      NaN\n",
      "one              1.0      NaN      NaN      NaN      NaN      NaN\n",
      "seven            7.0      NaN      NaN      NaN      NaN      NaN\n",
      "seventeen        NaN      NaN      NaN      NaN     17.0      NaN\n",
      "sixteen          NaN     16.0      NaN      NaN     16.0      NaN\n",
      "ten              NaN     10.0      NaN      NaN     10.0      NaN\n",
      "thirteen         NaN      NaN      NaN      NaN     13.0      NaN\n",
      "three            3.0      NaN      NaN      NaN      NaN      NaN\n",
      "twelve           NaN     12.0      NaN      NaN     12.0      NaN\n",
      "twenty           NaN      NaN     20.0     20.0      NaN     20.0\n",
      "twentyeight      NaN      NaN     28.0     28.0      NaN     28.0\n",
      "twentyfive       NaN      NaN      NaN      NaN      NaN     25.0\n",
      "twentyfour       NaN      NaN     24.0     24.0      NaN     24.0\n",
      "twentynine       NaN      NaN      NaN      NaN      NaN     29.0\n",
      "twentyone        NaN      NaN      NaN      NaN      NaN     21.0\n",
      "twentyseven      NaN      NaN      NaN      NaN      NaN     27.0\n",
      "twentysix        NaN      NaN     26.0     26.0      NaN     26.0\n",
      "twentythree      NaN      NaN      NaN      NaN      NaN     23.0\n",
      "twentytwo        NaN      NaN     22.0     22.0      NaN     22.0\n",
      "\n"
     ]
    }
   ],
   "source": [
    "pds1 = pd.Series( data = list( range(1, 10, 2) ), index = ['one', 'three', 'five', 'seven', 'nine'] )\n",
    "pds2 = pd.Series( data = list( range(10, 20, 2) ), index = [ 'ten', 'twelve', 'forteen', 'sixteen', 'eighteen' ] )\n",
    "pds3 = pd.Series( data = list( range(20, 30, 2) ), index = ['twenty', 'twentytwo', 'twentyfour', 'twentysix', 'twentyeight' ] )\n",
    "pds4 = pd.Series( data = list( range(20, 30, 2) ), index = ['twenty', 'twentytwo', 'twentyfour', 'twentysix', 'twentyeight' ] )\n",
    "pds5 = pd.Series( data = list( range(10, 20, 1) ), index = [ 'ten', 'eleven', 'twelve', 'thirteen', 'forteen', 'fifteen', 'sixteen', 'seventeen', 'eighteen', 'nineteen' ] )\n",
    "pds6 = pd.Series( data = list( range(20, 30, 1) ), index = ['twenty', 'twentyone', 'twentytwo', 'twentythree', 'twentyfour', 'twentyfive', 'twentysix', 'twentyseven', 'twentyeight',  'twentynine' ] )\n",
    "\n",
    "d = { 'Series1' : pds1, 'Series2' : pds2, 'Series3' : pds3, 'Series4' : pds4, 'Series5' : pds5, 'Series6' : pds6  }\n",
    "pddf = pd.DataFrame( d )\n",
    "print( f\"pddf :- \\n{ pddf }\\n\" )"
   ]
  },
  {
   "cell_type": "code",
   "execution_count": 9,
   "id": "first-promotion",
   "metadata": {},
   "outputs": [
    {
     "name": "stdout",
     "output_type": "stream",
     "text": [
      "\n",
      "eighteen        NaN\n",
      "eleven          NaN\n",
      "fifteen         NaN\n",
      "five            NaN\n",
      "forteen         NaN\n",
      "nine            NaN\n",
      "nineteen        NaN\n",
      "one             NaN\n",
      "seven           NaN\n",
      "seventeen       NaN\n",
      "sixteen         NaN\n",
      "ten             NaN\n",
      "thirteen        NaN\n",
      "three           NaN\n",
      "twelve          NaN\n",
      "twenty         20.0\n",
      "twentyeight    28.0\n",
      "twentyfive     25.0\n",
      "twentyfour     24.0\n",
      "twentynine     29.0\n",
      "twentyone      21.0\n",
      "twentyseven    27.0\n",
      "twentysix      26.0\n",
      "twentythree    23.0\n",
      "twentytwo      22.0\n",
      "Name: Series6, dtype: float64\n",
      "\n",
      "             Series1  Series2  Series3  Series4  Series5\n",
      "eighteen         NaN     18.0      NaN      NaN     18.0\n",
      "eleven           NaN      NaN      NaN      NaN     11.0\n",
      "fifteen          NaN      NaN      NaN      NaN     15.0\n",
      "five             5.0      NaN      NaN      NaN      NaN\n",
      "forteen          NaN     14.0      NaN      NaN     14.0\n",
      "nine             9.0      NaN      NaN      NaN      NaN\n",
      "nineteen         NaN      NaN      NaN      NaN     19.0\n",
      "one              1.0      NaN      NaN      NaN      NaN\n",
      "seven            7.0      NaN      NaN      NaN      NaN\n",
      "seventeen        NaN      NaN      NaN      NaN     17.0\n",
      "sixteen          NaN     16.0      NaN      NaN     16.0\n",
      "ten              NaN     10.0      NaN      NaN     10.0\n",
      "thirteen         NaN      NaN      NaN      NaN     13.0\n",
      "three            3.0      NaN      NaN      NaN      NaN\n",
      "twelve           NaN     12.0      NaN      NaN     12.0\n",
      "twenty           NaN      NaN     20.0     20.0      NaN\n",
      "twentyeight      NaN      NaN     28.0     28.0      NaN\n",
      "twentyfive       NaN      NaN      NaN      NaN      NaN\n",
      "twentyfour       NaN      NaN     24.0     24.0      NaN\n",
      "twentynine       NaN      NaN      NaN      NaN      NaN\n",
      "twentyone        NaN      NaN      NaN      NaN      NaN\n",
      "twentyseven      NaN      NaN      NaN      NaN      NaN\n",
      "twentysix        NaN      NaN     26.0     26.0      NaN\n",
      "twentythree      NaN      NaN      NaN      NaN      NaN\n",
      "twentytwo        NaN      NaN     22.0     22.0      NaN\n"
     ]
    }
   ],
   "source": [
    "#Data Deletion\n",
    "\n",
    "#pop\n",
    "s6 = pddf.pop('Series6')\n",
    "print()\n",
    "print( s6 )\n",
    "print()\n",
    "print( pddf )\n"
   ]
  },
  {
   "cell_type": "code",
   "execution_count": 10,
   "id": "alone-soldier",
   "metadata": {},
   "outputs": [
    {
     "name": "stdout",
     "output_type": "stream",
     "text": [
      "pddf :- \n",
      "             Series1  Series2  Series3  Series4\n",
      "eighteen         NaN     18.0      NaN      NaN\n",
      "eleven           NaN      NaN      NaN      NaN\n",
      "fifteen          NaN      NaN      NaN      NaN\n",
      "five             5.0      NaN      NaN      NaN\n",
      "forteen          NaN     14.0      NaN      NaN\n",
      "nine             9.0      NaN      NaN      NaN\n",
      "nineteen         NaN      NaN      NaN      NaN\n",
      "one              1.0      NaN      NaN      NaN\n",
      "seven            7.0      NaN      NaN      NaN\n",
      "seventeen        NaN      NaN      NaN      NaN\n",
      "sixteen          NaN     16.0      NaN      NaN\n",
      "ten              NaN     10.0      NaN      NaN\n",
      "thirteen         NaN      NaN      NaN      NaN\n",
      "three            3.0      NaN      NaN      NaN\n",
      "twelve           NaN     12.0      NaN      NaN\n",
      "twenty           NaN      NaN     20.0     20.0\n",
      "twentyeight      NaN      NaN     28.0     28.0\n",
      "twentyfive       NaN      NaN      NaN      NaN\n",
      "twentyfour       NaN      NaN     24.0     24.0\n",
      "twentynine       NaN      NaN      NaN      NaN\n",
      "twentyone        NaN      NaN      NaN      NaN\n",
      "twentyseven      NaN      NaN      NaN      NaN\n",
      "twentysix        NaN      NaN     26.0     26.0\n",
      "twentythree      NaN      NaN      NaN      NaN\n",
      "twentytwo        NaN      NaN     22.0     22.0\n",
      "\n"
     ]
    }
   ],
   "source": [
    "\n",
    " #del\n",
    "del pddf['Series5'] \n",
    "#del will do the action, Update the DataFrame and does not return any value\n",
    "print( f\"pddf :- \\n{ pddf }\\n\" )\n",
    "\n",
    "\n"
   ]
  },
  {
   "cell_type": "code",
   "execution_count": 20,
   "id": "subject-baker",
   "metadata": {},
   "outputs": [],
   "source": [
    "#drop\n",
    "        \n",
    "#Delete specific rows :- pddf.drop( [ row1, row2, .., rown ], axis = 0 ) \n",
    "#Delete specific columns :- pddf.drop( [ col1, col2, .., coln ], axis = 1 )\n",
    "\n"
   ]
  },
  {
   "cell_type": "code",
   "execution_count": 25,
   "id": "continuing-cannon",
   "metadata": {},
   "outputs": [
    {
     "name": "stdout",
     "output_type": "stream",
     "text": [
      "pddf :- \n",
      "             Series1  Series2  Series3  Series4  Series7\n",
      "eighteen         NaN     18.0      NaN      NaN     28.0\n",
      "eleven           NaN      NaN      NaN      NaN      NaN\n",
      "fifteen          NaN      NaN      NaN      NaN      NaN\n",
      "five             5.0      NaN      NaN      NaN      NaN\n",
      "forteen          NaN     14.0      NaN      NaN     24.0\n",
      "nine             9.0      NaN      NaN      NaN      NaN\n",
      "nineteen         NaN      NaN      NaN      NaN      NaN\n",
      "one              1.0      NaN      NaN      NaN      NaN\n",
      "seven            7.0      NaN      NaN      NaN      NaN\n",
      "seventeen        NaN      NaN      NaN      NaN      NaN\n",
      "sixteen          NaN     16.0      NaN      NaN     26.0\n",
      "ten              NaN     10.0      NaN      NaN     20.0\n",
      "thirteen         NaN      NaN      NaN      NaN      NaN\n",
      "three            3.0      NaN      NaN      NaN      NaN\n",
      "twelve           NaN     12.0      NaN      NaN     22.0\n",
      "twenty           NaN      NaN     20.0     20.0      NaN\n",
      "twentyeight      NaN      NaN     28.0     28.0      NaN\n",
      "twentyfive       NaN      NaN      NaN      NaN      NaN\n",
      "twentyfour       NaN      NaN     24.0     24.0      NaN\n",
      "twentynine       NaN      NaN      NaN      NaN      NaN\n",
      "twentyone        NaN      NaN      NaN      NaN      NaN\n",
      "twentyseven      NaN      NaN      NaN      NaN      NaN\n",
      "twentysix        NaN      NaN     26.0     26.0      NaN\n",
      "twentythree      NaN      NaN      NaN      NaN      NaN\n",
      "twentytwo        NaN      NaN     22.0     22.0      NaN\n",
      "\n"
     ]
    }
   ],
   "source": [
    "#Data Insertion - we are going to insert series1 data + 2.\\n\",\n",
    "#There are 3 method to add data in existing DataFrame.\n",
    "\n",
    "#1) Direct Method, -> dataframe[ key/ new_col ] = panda Series\n",
    "pddf['Series7'] = pddf['Series2'] + 10\n",
    "print( f\"pddf :- \\n{ pddf }\\n\" )"
   ]
  },
  {
   "cell_type": "code",
   "execution_count": 27,
   "id": "organizational-length",
   "metadata": {},
   "outputs": [
    {
     "name": "stdout",
     "output_type": "stream",
     "text": [
      "pddf :- \n",
      "             Series1  Series2  Series8  Series3  Series4  Series7\n",
      "eighteen         NaN     18.0     28.0      NaN      NaN     28.0\n",
      "eleven           NaN      NaN      NaN      NaN      NaN      NaN\n",
      "fifteen          NaN      NaN      NaN      NaN      NaN      NaN\n",
      "five             5.0      NaN      NaN      NaN      NaN      NaN\n",
      "forteen          NaN     14.0     24.0      NaN      NaN     24.0\n",
      "nine             9.0      NaN      NaN      NaN      NaN      NaN\n",
      "nineteen         NaN      NaN      NaN      NaN      NaN      NaN\n",
      "one              1.0      NaN      NaN      NaN      NaN      NaN\n",
      "seven            7.0      NaN      NaN      NaN      NaN      NaN\n",
      "seventeen        NaN      NaN      NaN      NaN      NaN      NaN\n",
      "sixteen          NaN     16.0     26.0      NaN      NaN     26.0\n",
      "ten              NaN     10.0     20.0      NaN      NaN     20.0\n",
      "thirteen         NaN      NaN      NaN      NaN      NaN      NaN\n",
      "three            3.0      NaN      NaN      NaN      NaN      NaN\n",
      "twelve           NaN     12.0     22.0      NaN      NaN     22.0\n",
      "twenty           NaN      NaN      NaN     20.0     20.0      NaN\n",
      "twentyeight      NaN      NaN      NaN     28.0     28.0      NaN\n",
      "twentyfive       NaN      NaN      NaN      NaN      NaN      NaN\n",
      "twentyfour       NaN      NaN      NaN     24.0     24.0      NaN\n",
      "twentynine       NaN      NaN      NaN      NaN      NaN      NaN\n",
      "twentyone        NaN      NaN      NaN      NaN      NaN      NaN\n",
      "twentyseven      NaN      NaN      NaN      NaN      NaN      NaN\n",
      "twentysix        NaN      NaN      NaN     26.0     26.0      NaN\n",
      "twentythree      NaN      NaN      NaN      NaN      NaN      NaN\n",
      "twentytwo        NaN      NaN      NaN     22.0     22.0      NaN\n",
      "\n"
     ]
    }
   ],
   "source": [
    "#2) insert method - location + key(col_name) + data( panda Series )\n",
    "#Syntax :- dataframe.insert( location, 'key', panda series )\n",
    "pddf.insert( 2, 'Series8', pddf['Series2'] + 10 )\n",
    "print( f\"pddf :- \\n{ pddf }\\n\" )"
   ]
  },
  {
   "cell_type": "code",
   "execution_count": 33,
   "id": "quarterly-gibraltar",
   "metadata": {},
   "outputs": [
    {
     "name": "stdout",
     "output_type": "stream",
     "text": [
      "series7 :- \n",
      "eighteen       18.0\n",
      "eleven          NaN\n",
      "fifteen         NaN\n",
      "five            NaN\n",
      "forteen        14.0\n",
      "nine            NaN\n",
      "nineteen        NaN\n",
      "one             NaN\n",
      "seven           NaN\n",
      "seventeen       NaN\n",
      "sixteen        16.0\n",
      "ten            10.0\n",
      "thirteen        NaN\n",
      "three           NaN\n",
      "twelve         12.0\n",
      "twenty          NaN\n",
      "twentyeight     NaN\n",
      "twentyfive      NaN\n",
      "twentyfour      NaN\n",
      "twentynine      NaN\n",
      "twentyone       NaN\n",
      "twentyseven     NaN\n",
      "twentysix       NaN\n",
      "twentythree     NaN\n",
      "twentytwo       NaN\n",
      "dtype: float64\n",
      "type( series7 ) :- \n",
      "<class 'pandas.core.series.Series'>\n",
      "\n",
      "pds7 :- \n",
      "             Series7\n",
      "eighteen        18.0\n",
      "eleven           NaN\n",
      "fifteen          NaN\n",
      "five             NaN\n",
      "forteen         14.0\n",
      "nine             NaN\n",
      "nineteen         NaN\n",
      "one              NaN\n",
      "seven            NaN\n",
      "seventeen        NaN\n",
      "sixteen         16.0\n",
      "ten             10.0\n",
      "thirteen         NaN\n",
      "three            NaN\n",
      "twelve          12.0\n",
      "twenty           NaN\n",
      "twentyeight      NaN\n",
      "twentyfive       NaN\n",
      "twentyfour       NaN\n",
      "twentynine       NaN\n",
      "twentyone        NaN\n",
      "twentyseven      NaN\n",
      "twentysix        NaN\n",
      "twentythree      NaN\n",
      "twentytwo        NaN\n",
      "type( pds7 ) :- \n",
      "<class 'pandas.core.frame.DataFrame'>\n",
      "\n"
     ]
    },
    {
     "ename": "ValueError",
     "evalue": "columns overlap but no suffix specified: Index(['Series7'], dtype='object')",
     "output_type": "error",
     "traceback": [
      "\u001b[1;31m---------------------------------------------------------------------------\u001b[0m",
      "\u001b[1;31mValueError\u001b[0m                                Traceback (most recent call last)",
      "\u001b[1;32m<ipython-input-33-0ab8d0e03f37>\u001b[0m in \u001b[0;36m<module>\u001b[1;34m\u001b[0m\n\u001b[0;32m     15\u001b[0m \u001b[0mprint\u001b[0m\u001b[1;33m(\u001b[0m \u001b[1;34mf\"pds7 :- \\n{ pds7 }\\ntype( pds7 ) :- \\n{ type( pds7 ) }\\n\"\u001b[0m \u001b[1;33m)\u001b[0m\u001b[1;33m\u001b[0m\u001b[1;33m\u001b[0m\u001b[0m\n\u001b[0;32m     16\u001b[0m \u001b[1;33m\u001b[0m\u001b[0m\n\u001b[1;32m---> 17\u001b[1;33m \u001b[0mpddf\u001b[0m \u001b[1;33m=\u001b[0m \u001b[0mpddf\u001b[0m\u001b[1;33m.\u001b[0m\u001b[0mjoin\u001b[0m\u001b[1;33m(\u001b[0m \u001b[0mpds7\u001b[0m \u001b[1;33m)\u001b[0m\u001b[1;33m\u001b[0m\u001b[1;33m\u001b[0m\u001b[0m\n\u001b[0m\u001b[0;32m     18\u001b[0m \u001b[0mprint\u001b[0m\u001b[1;33m(\u001b[0m\u001b[1;33m)\u001b[0m\u001b[1;33m\u001b[0m\u001b[1;33m\u001b[0m\u001b[0m\n\u001b[0;32m     19\u001b[0m \u001b[0mprint\u001b[0m\u001b[1;33m(\u001b[0m \u001b[1;34mf\"pddf = \\n{ pddf }\\n\"\u001b[0m \u001b[1;33m)\u001b[0m\u001b[1;33m\u001b[0m\u001b[1;33m\u001b[0m\u001b[0m\n",
      "\u001b[1;32mc:\\users\\pc\\appdata\\local\\programs\\python\\python37\\lib\\site-packages\\pandas\\core\\frame.py\u001b[0m in \u001b[0;36mjoin\u001b[1;34m(self, other, on, how, lsuffix, rsuffix, sort)\u001b[0m\n\u001b[0;32m   8109\u001b[0m         \"\"\"\n\u001b[0;32m   8110\u001b[0m         return self._join_compat(\n\u001b[1;32m-> 8111\u001b[1;33m             \u001b[0mother\u001b[0m\u001b[1;33m,\u001b[0m \u001b[0mon\u001b[0m\u001b[1;33m=\u001b[0m\u001b[0mon\u001b[0m\u001b[1;33m,\u001b[0m \u001b[0mhow\u001b[0m\u001b[1;33m=\u001b[0m\u001b[0mhow\u001b[0m\u001b[1;33m,\u001b[0m \u001b[0mlsuffix\u001b[0m\u001b[1;33m=\u001b[0m\u001b[0mlsuffix\u001b[0m\u001b[1;33m,\u001b[0m \u001b[0mrsuffix\u001b[0m\u001b[1;33m=\u001b[0m\u001b[0mrsuffix\u001b[0m\u001b[1;33m,\u001b[0m \u001b[0msort\u001b[0m\u001b[1;33m=\u001b[0m\u001b[0msort\u001b[0m\u001b[1;33m\u001b[0m\u001b[1;33m\u001b[0m\u001b[0m\n\u001b[0m\u001b[0;32m   8112\u001b[0m         )\n\u001b[0;32m   8113\u001b[0m \u001b[1;33m\u001b[0m\u001b[0m\n",
      "\u001b[1;32mc:\\users\\pc\\appdata\\local\\programs\\python\\python37\\lib\\site-packages\\pandas\\core\\frame.py\u001b[0m in \u001b[0;36m_join_compat\u001b[1;34m(self, other, on, how, lsuffix, rsuffix, sort)\u001b[0m\n\u001b[0;32m   8141\u001b[0m                 \u001b[0mright_index\u001b[0m\u001b[1;33m=\u001b[0m\u001b[1;32mTrue\u001b[0m\u001b[1;33m,\u001b[0m\u001b[1;33m\u001b[0m\u001b[1;33m\u001b[0m\u001b[0m\n\u001b[0;32m   8142\u001b[0m                 \u001b[0msuffixes\u001b[0m\u001b[1;33m=\u001b[0m\u001b[1;33m(\u001b[0m\u001b[0mlsuffix\u001b[0m\u001b[1;33m,\u001b[0m \u001b[0mrsuffix\u001b[0m\u001b[1;33m)\u001b[0m\u001b[1;33m,\u001b[0m\u001b[1;33m\u001b[0m\u001b[1;33m\u001b[0m\u001b[0m\n\u001b[1;32m-> 8143\u001b[1;33m                 \u001b[0msort\u001b[0m\u001b[1;33m=\u001b[0m\u001b[0msort\u001b[0m\u001b[1;33m,\u001b[0m\u001b[1;33m\u001b[0m\u001b[1;33m\u001b[0m\u001b[0m\n\u001b[0m\u001b[0;32m   8144\u001b[0m             )\n\u001b[0;32m   8145\u001b[0m         \u001b[1;32melse\u001b[0m\u001b[1;33m:\u001b[0m\u001b[1;33m\u001b[0m\u001b[1;33m\u001b[0m\u001b[0m\n",
      "\u001b[1;32mc:\\users\\pc\\appdata\\local\\programs\\python\\python37\\lib\\site-packages\\pandas\\core\\reshape\\merge.py\u001b[0m in \u001b[0;36mmerge\u001b[1;34m(left, right, how, on, left_on, right_on, left_index, right_index, sort, suffixes, copy, indicator, validate)\u001b[0m\n\u001b[0;32m     87\u001b[0m         \u001b[0mvalidate\u001b[0m\u001b[1;33m=\u001b[0m\u001b[0mvalidate\u001b[0m\u001b[1;33m,\u001b[0m\u001b[1;33m\u001b[0m\u001b[1;33m\u001b[0m\u001b[0m\n\u001b[0;32m     88\u001b[0m     )\n\u001b[1;32m---> 89\u001b[1;33m     \u001b[1;32mreturn\u001b[0m \u001b[0mop\u001b[0m\u001b[1;33m.\u001b[0m\u001b[0mget_result\u001b[0m\u001b[1;33m(\u001b[0m\u001b[1;33m)\u001b[0m\u001b[1;33m\u001b[0m\u001b[1;33m\u001b[0m\u001b[0m\n\u001b[0m\u001b[0;32m     90\u001b[0m \u001b[1;33m\u001b[0m\u001b[0m\n\u001b[0;32m     91\u001b[0m \u001b[1;33m\u001b[0m\u001b[0m\n",
      "\u001b[1;32mc:\\users\\pc\\appdata\\local\\programs\\python\\python37\\lib\\site-packages\\pandas\\core\\reshape\\merge.py\u001b[0m in \u001b[0;36mget_result\u001b[1;34m(self)\u001b[0m\n\u001b[0;32m    685\u001b[0m \u001b[1;33m\u001b[0m\u001b[0m\n\u001b[0;32m    686\u001b[0m         llabels, rlabels = _items_overlap_with_suffix(\n\u001b[1;32m--> 687\u001b[1;33m             \u001b[0mself\u001b[0m\u001b[1;33m.\u001b[0m\u001b[0mleft\u001b[0m\u001b[1;33m.\u001b[0m\u001b[0m_info_axis\u001b[0m\u001b[1;33m,\u001b[0m \u001b[0mself\u001b[0m\u001b[1;33m.\u001b[0m\u001b[0mright\u001b[0m\u001b[1;33m.\u001b[0m\u001b[0m_info_axis\u001b[0m\u001b[1;33m,\u001b[0m \u001b[0mself\u001b[0m\u001b[1;33m.\u001b[0m\u001b[0msuffixes\u001b[0m\u001b[1;33m\u001b[0m\u001b[1;33m\u001b[0m\u001b[0m\n\u001b[0m\u001b[0;32m    688\u001b[0m         )\n\u001b[0;32m    689\u001b[0m \u001b[1;33m\u001b[0m\u001b[0m\n",
      "\u001b[1;32mc:\\users\\pc\\appdata\\local\\programs\\python\\python37\\lib\\site-packages\\pandas\\core\\reshape\\merge.py\u001b[0m in \u001b[0;36m_items_overlap_with_suffix\u001b[1;34m(left, right, suffixes)\u001b[0m\n\u001b[0;32m   2176\u001b[0m \u001b[1;33m\u001b[0m\u001b[0m\n\u001b[0;32m   2177\u001b[0m     \u001b[1;32mif\u001b[0m \u001b[1;32mnot\u001b[0m \u001b[0mlsuffix\u001b[0m \u001b[1;32mand\u001b[0m \u001b[1;32mnot\u001b[0m \u001b[0mrsuffix\u001b[0m\u001b[1;33m:\u001b[0m\u001b[1;33m\u001b[0m\u001b[1;33m\u001b[0m\u001b[0m\n\u001b[1;32m-> 2178\u001b[1;33m         \u001b[1;32mraise\u001b[0m \u001b[0mValueError\u001b[0m\u001b[1;33m(\u001b[0m\u001b[1;34mf\"columns overlap but no suffix specified: {to_rename}\"\u001b[0m\u001b[1;33m)\u001b[0m\u001b[1;33m\u001b[0m\u001b[1;33m\u001b[0m\u001b[0m\n\u001b[0m\u001b[0;32m   2179\u001b[0m \u001b[1;33m\u001b[0m\u001b[0m\n\u001b[0;32m   2180\u001b[0m     \u001b[1;32mdef\u001b[0m \u001b[0mrenamer\u001b[0m\u001b[1;33m(\u001b[0m\u001b[0mx\u001b[0m\u001b[1;33m,\u001b[0m \u001b[0msuffix\u001b[0m\u001b[1;33m)\u001b[0m\u001b[1;33m:\u001b[0m\u001b[1;33m\u001b[0m\u001b[1;33m\u001b[0m\u001b[0m\n",
      "\u001b[1;31mValueError\u001b[0m: columns overlap but no suffix specified: Index(['Series7'], dtype='object')"
     ]
    }
   ],
   "source": [
    "#3) join method - ( for join by default the location is last position in dataset )\n",
    "#join() will do the action but not update pddf. So, we will have to save the action in pddf.\n",
    "#syntax :- data_fram1.join( data_frame2 )\n",
    "series7 = pddf['Series2'] + 10\n",
    "\n",
    "l = []\n",
    "for i in pddf['Series2']:\n",
    "    l.append( i )\n",
    "\n",
    "series7 = pd.Series( data = l, index = pddf.index )\n",
    "print( f\"series7 :- \\n{ series7 }\\ntype( series7 ) :- \\n{ type( series7 ) }\\n\" )\n",
    "\n",
    "pds7 = pd.DataFrame( series7 )\n",
    "pds7.columns = ['Series7']\n",
    "print( f\"pds7 :- \\n{ pds7 }\\ntype( pds7 ) :- \\n{ type( pds7 ) }\\n\" )\n",
    "\n",
    "pddf = pddf.join( pds7 )\n",
    "print()\n",
    "print( f\"pddf = \\n{ pddf }\\n\" )\n"
   ]
  },
  {
   "cell_type": "code",
   "execution_count": null,
   "id": "renewable-sarah",
   "metadata": {},
   "outputs": [],
   "source": []
  }
 ],
 "metadata": {
  "kernelspec": {
   "display_name": "Python 3",
   "language": "python",
   "name": "python3"
  },
  "language_info": {
   "codemirror_mode": {
    "name": "ipython",
    "version": 3
   },
   "file_extension": ".py",
   "mimetype": "text/x-python",
   "name": "python",
   "nbconvert_exporter": "python",
   "pygments_lexer": "ipython3",
   "version": "3.7.9"
  }
 },
 "nbformat": 4,
 "nbformat_minor": 5
}
